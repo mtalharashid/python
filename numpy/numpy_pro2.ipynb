{
 "cells": [
  {
   "cell_type": "markdown",
   "metadata": {},
   "source": [
    "## Numpy array operations"
   ]
  },
  {
   "cell_type": "code",
   "execution_count": 2,
   "metadata": {},
   "outputs": [],
   "source": [
    "import numpy as np"
   ]
  },
  {
   "cell_type": "code",
   "execution_count": 5,
   "metadata": {},
   "outputs": [
    {
     "name": "stdout",
     "output_type": "stream",
     "text": [
      "basic Slicing [3 4 5 6 7]\n",
      "with Step [2 4 6 8]\n",
      "negative Indexing 8\n"
     ]
    }
   ],
   "source": [
    "arr = np.array([1, 2, 3, 4, 5, 6, 7, 8, 9, 10])\n",
    "print(\"basic Slicing\", arr[2:7])\n",
    "print(\"with Step\", arr[1:8:2])\n",
    "print(\"negative Indexing\", arr[-3])"
   ]
  },
  {
   "cell_type": "markdown",
   "metadata": {},
   "source": [
    "## 2 D Array"
   ]
  },
  {
   "cell_type": "code",
   "execution_count": 7,
   "metadata": {},
   "outputs": [
    {
     "name": "stdout",
     "output_type": "stream",
     "text": [
      "specific Element 6\n",
      "entire row [4 5 6]\n",
      "entire row [2 5 8]\n"
     ]
    }
   ],
   "source": [
    "arr_2d = np.array([\n",
    "    [1,2,3],\n",
    "    [4,5,6],\n",
    "    [7,8,9]\n",
    "])\n",
    "\n",
    "print(\"specific Element\", arr_2d[1,2])\n",
    "print(\"entire row\", arr_2d[1])\n",
    "print(\"entire column\", arr_2d[:, 1])"
   ]
  },
  {
   "cell_type": "markdown",
   "metadata": {},
   "source": [
    "## Sorting"
   ]
  },
  {
   "cell_type": "code",
   "execution_count": 15,
   "metadata": {},
   "outputs": [
    {
     "name": "stdout",
     "output_type": "stream",
     "text": [
      "Sorted Array:  [1 1 3 4 5 8]\n",
      "Sorted 2 D array by column: \n",
      " [[3 1]\n",
      " [4 1]\n",
      " [5 2]]\n",
      "Sorted 2 D array by row: \n",
      " [[1 3]\n",
      " [1 4]\n",
      " [2 5]]\n"
     ]
    }
   ],
   "source": [
    "unsorted_arr = np.array([3, 1, 4, 5, 1, 8])\n",
    "print(\"Sorted Array: \", np.sort(unsorted_arr))\n",
    "\n",
    "# 2D sorted array\n",
    "\n",
    "unsorted_2d_arr = np.array([\n",
    "    [3, 1],\n",
    "    [4, 2],\n",
    "    [5, 1]\n",
    "])\n",
    "\n",
    "print(\"Sorted 2 D array by column: \\n\", np.sort(unsorted_2d_arr, axis=0))\n",
    "print(\"Sorted 2 D array by row: \\n\", np.sort(unsorted_2d_arr, axis=0)[:, ::-1])"
   ]
  },
  {
   "cell_type": "markdown",
   "metadata": {},
   "source": [
    "## Array Filtering"
   ]
  },
  {
   "cell_type": "code",
   "execution_count": 17,
   "metadata": {},
   "outputs": [
    {
     "name": "stdout",
     "output_type": "stream",
     "text": [
      "Even numbers:  [ 2  4  6  8 10]\n"
     ]
    }
   ],
   "source": [
    "number = np.array([1,2,3,4,5,6,7,8,9,10])\n",
    "even_num = number[number % 2 == 0]\n",
    "print(\"Even numbers: \", even_num)"
   ]
  },
  {
   "cell_type": "markdown",
   "metadata": {},
   "source": [
    "## Filter with Mask"
   ]
  },
  {
   "cell_type": "code",
   "execution_count": 18,
   "metadata": {},
   "outputs": [
    {
     "name": "stdout",
     "output_type": "stream",
     "text": [
      "number grater then 5:  [ 6  7  8  9 10]\n"
     ]
    }
   ],
   "source": [
    "mask = number > 5\n",
    "print(\"number grater then 5: \", number[mask])"
   ]
  },
  {
   "cell_type": "markdown",
   "metadata": {},
   "source": [
    "## Fancy Indexing Vs np.Where"
   ]
  },
  {
   "cell_type": "code",
   "execution_count": 21,
   "metadata": {},
   "outputs": [
    {
     "name": "stdout",
     "output_type": "stream",
     "text": [
      "[1 3 5]\n",
      "np where:  (array([5, 6, 7, 8, 9]),)\n",
      "np where:  [ 6  7  8  9 10]\n"
     ]
    }
   ],
   "source": [
    "indices = [0, 2, 4]\n",
    "print(number[indices])\n",
    "\n",
    "where_result = np.where(number > 5)\n",
    "print(\"np where: \", where_result)\n",
    "print(\"np where: \", number[where_result])"
   ]
  },
  {
   "cell_type": "markdown",
   "metadata": {},
   "source": [
    "## Condition Array"
   ]
  },
  {
   "cell_type": "code",
   "execution_count": 26,
   "metadata": {},
   "outputs": [
    {
     "name": "stdout",
     "output_type": "stream",
     "text": [
      "[ 1  2  3  4  5  6  7  8  9 10]\n"
     ]
    }
   ],
   "source": [
    "condition_arr = np.where(number > 5, number * 2, number)\n",
    "print(condition_arr)"
   ]
  },
  {
   "cell_type": "markdown",
   "metadata": {},
   "source": [
    "## Data add and Removing "
   ]
  },
  {
   "cell_type": "code",
   "execution_count": 32,
   "metadata": {},
   "outputs": [
    {
     "name": "stdout",
     "output_type": "stream",
     "text": [
      "Combined 2 array:  [ 6  8 10 12]\n",
      "merge 2 array:  [1 2 3 4 5 6 7 8]\n"
     ]
    }
   ],
   "source": [
    "arr1 = np.array([1,2,3,4])\n",
    "arr2 = np.array([5,6,7,8])\n",
    "\n",
    "combined = arr1 + arr2\n",
    "print(\"Combined 2 array: \", combined)\n",
    "\n",
    "# Merge 2 array\n",
    "merge = np.concatenate((arr1 , arr2))\n",
    "print(\"merge 2 array: \", merge)"
   ]
  },
  {
   "cell_type": "markdown",
   "metadata": {},
   "source": [
    "## Array Compatibility "
   ]
  },
  {
   "cell_type": "code",
   "execution_count": 33,
   "metadata": {},
   "outputs": [
    {
     "name": "stdout",
     "output_type": "stream",
     "text": [
      "Compatiblity shape True\n"
     ]
    }
   ],
   "source": [
    "a = np.array([1,2,3,4])\n",
    "b = np.array([5,6,7,8])\n",
    "c = np.array([9,10,11,12])\n",
    "\n",
    "print(\"Compatiblity shape: \", a.shape == b.shape)"
   ]
  },
  {
   "cell_type": "code",
   "execution_count": 36,
   "metadata": {},
   "outputs": [
    {
     "name": "stdout",
     "output_type": "stream",
     "text": [
      "[[1 2]\n",
      " [3 4]\n",
      " [5 6]]\n",
      "[7 8]\n",
      "Add new col to arr: \n",
      " [[1 2 7]\n",
      " [3 4 8]\n",
      " [5 6 9]]\n"
     ]
    }
   ],
   "source": [
    "arr3 = np.array([[1, 2], [3, 4], [5, 6]])\n",
    "\n",
    "new_row = np.array([7, 8])\n",
    "\n",
    "with_new_row = np.vstack((arr3, new_row))\n",
    "print(arr3)\n",
    "print(new_row)\n",
    "\n",
    "new_col = np.array([[7], [8], [9]])\n",
    "with_new_col = np.hstack((arr3, new_col))\n",
    "print(\"Add new col to arr: \\n\",with_new_col)"
   ]
  },
  {
   "cell_type": "markdown",
   "metadata": {},
   "source": [
    "## Delete Operation in Array"
   ]
  },
  {
   "cell_type": "code",
   "execution_count": 3,
   "metadata": {},
   "outputs": [
    {
     "name": "stdout",
     "output_type": "stream",
     "text": [
      "Array after deletion:  [1 2 4 5]\n"
     ]
    }
   ],
   "source": [
    "arr4 = np.array([1,2,3,4,5])\n",
    "delete = np.delete(arr4, 2)\n",
    "print(\"Array after deletion: \", delete)"
   ]
  }
 ],
 "metadata": {
  "kernelspec": {
   "display_name": "Python 3",
   "language": "python",
   "name": "python3"
  },
  "language_info": {
   "codemirror_mode": {
    "name": "ipython",
    "version": 3
   },
   "file_extension": ".py",
   "mimetype": "text/x-python",
   "name": "python",
   "nbconvert_exporter": "python",
   "pygments_lexer": "ipython3",
   "version": "3.13.5"
  }
 },
 "nbformat": 4,
 "nbformat_minor": 2
}
