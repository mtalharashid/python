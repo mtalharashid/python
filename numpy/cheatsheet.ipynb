{
 "cells": [
  {
   "cell_type": "markdown",
   "id": "14919087",
   "metadata": {},
   "source": [
    "# NumPy Cheat Sheet for Data Analysis"
   ]
  },
  {
   "cell_type": "code",
   "execution_count": 3,
   "id": "632baa05",
   "metadata": {},
   "outputs": [],
   "source": [
    "# Import NumPy\n",
    "import numpy as np"
   ]
  },
  {
   "cell_type": "markdown",
   "id": "bc003651",
   "metadata": {},
   "source": [
    "## Create Array"
   ]
  },
  {
   "cell_type": "code",
   "execution_count": 4,
   "id": "0a234a96",
   "metadata": {},
   "outputs": [
    {
     "name": "stdout",
     "output_type": "stream",
     "text": [
      "Array from list: [1 2 3 4 5]\n",
      "Zeros array:\n",
      " [[0. 0. 0.]\n",
      " [0. 0. 0.]]\n",
      "Ones array:\n",
      " [[1. 1. 1.]\n",
      " [1. 1. 1.]\n",
      " [1. 1. 1.]]\n",
      "Arange array: [0 2 4 6 8]\n",
      "Linspace array: [0.   0.25 0.5  0.75 1.  ]\n"
     ]
    }
   ],
   "source": [
    "# 1. Array Creation\n",
    "arr1 = np.array([1, 2, 3, 4, 5])\n",
    "arr2 = np.zeros((2, 3))\n",
    "arr3 = np.ones((3, 3))\n",
    "arr4 = np.arange(0, 10, 2)\n",
    "arr5 = np.linspace(0, 1, 5)\n",
    "\n",
    "print(\"Array from list:\", arr1)\n",
    "print(\"Zeros array:\\n\", arr2)\n",
    "print(\"Ones array:\\n\", arr3)\n",
    "print(\"Arange array:\", arr4)\n",
    "print(\"Linspace array:\", arr5)"
   ]
  },
  {
   "cell_type": "markdown",
   "id": "e1ae3c2e",
   "metadata": {},
   "source": [
    "## Array Manipulation"
   ]
  },
  {
   "cell_type": "code",
   "execution_count": 5,
   "id": "b20bcd97",
   "metadata": {},
   "outputs": [
    {
     "name": "stdout",
     "output_type": "stream",
     "text": [
      "Reshaped array:\n",
      " [[1]\n",
      " [2]\n",
      " [3]\n",
      " [4]\n",
      " [5]]\n",
      "Transposed array:\n",
      " [[1. 1. 1.]\n",
      " [1. 1. 1.]\n",
      " [1. 1. 1.]]\n",
      "Concatenated array: [1 2 3 4 5 0 2 4 6 8]\n",
      "Split array: [array([1, 2, 3]), array([4, 5])]\n"
     ]
    }
   ],
   "source": [
    "# 2. Array Manipulation\n",
    "arr_reshaped = arr1.reshape((5, 1))\n",
    "arr_transposed = arr3.T\n",
    "arr_concat = np.concatenate([arr1, arr4])\n",
    "arr_split = np.array_split(arr1, 2)\n",
    "\n",
    "print(\"Reshaped array:\\n\", arr_reshaped)\n",
    "print(\"Transposed array:\\n\", arr_transposed)\n",
    "print(\"Concatenated array:\", arr_concat)\n",
    "print(\"Split array:\", arr_split)"
   ]
  },
  {
   "cell_type": "markdown",
   "id": "838bf645",
   "metadata": {},
   "source": [
    "## Mathematical Operations"
   ]
  },
  {
   "cell_type": "code",
   "execution_count": 6,
   "id": "20ed0c42",
   "metadata": {},
   "outputs": [
    {
     "name": "stdout",
     "output_type": "stream",
     "text": [
      "Sum: 15\n",
      "Mean: 3.0\n",
      "Standard Deviation: 1.4142135623730951\n",
      "Dot product: 11\n"
     ]
    }
   ],
   "source": [
    "# 3. Mathematical Operations\n",
    "arr_sum = np.sum(arr1)\n",
    "arr_mean = np.mean(arr1)\n",
    "arr_std = np.std(arr1)\n",
    "dot_product = np.dot(np.array([1, 2]), np.array([3, 4]))\n",
    "\n",
    "print(\"Sum:\", arr_sum)\n",
    "print(\"Mean:\", arr_mean)\n",
    "print(\"Standard Deviation:\", arr_std)\n",
    "print(\"Dot product:\", dot_product)"
   ]
  },
  {
   "cell_type": "markdown",
   "id": "3942caf5",
   "metadata": {},
   "source": [
    "## Random Number Generation"
   ]
  },
  {
   "cell_type": "code",
   "execution_count": 7,
   "id": "0d146a1a",
   "metadata": {},
   "outputs": [
    {
     "name": "stdout",
     "output_type": "stream",
     "text": [
      "Random numbers:\n",
      " [[0.44129493 0.48278161 0.83186531]\n",
      " [0.52751037 0.09633166 0.60462635]\n",
      " [0.34676627 0.68474411 0.31733405]]\n",
      "Random integers:\n",
      " [[5 3]\n",
      " [3 1]]\n",
      "Random sample: [20 20]\n"
     ]
    }
   ],
   "source": [
    "# 4. Random Number Generation\n",
    "rand_nums = np.random.rand(3, 3)\n",
    "rand_ints = np.random.randint(1, 10, size=(2, 2))\n",
    "sample = np.random.choice([10, 20, 30, 40], size=2)\n",
    "\n",
    "print(\"Random numbers:\\n\", rand_nums)\n",
    "print(\"Random integers:\\n\", rand_ints)\n",
    "print(\"Random sample:\", sample)"
   ]
  },
  {
   "cell_type": "markdown",
   "id": "cbb0781a",
   "metadata": {},
   "source": [
    "## Masking and Filtering"
   ]
  },
  {
   "cell_type": "code",
   "execution_count": 8,
   "id": "2d8783b4",
   "metadata": {},
   "outputs": [
    {
     "name": "stdout",
     "output_type": "stream",
     "text": [
      "Filtered array (elements >2): [3 4 5]\n"
     ]
    }
   ],
   "source": [
    "# 5. Masking & Filtering\n",
    "arr_masked = arr1[arr1 > 2]\n",
    "print(\"Filtered array (elements >2):\", arr_masked)"
   ]
  },
  {
   "cell_type": "markdown",
   "id": "c2a90c68",
   "metadata": {},
   "source": [
    "## Liner Algebra"
   ]
  },
  {
   "cell_type": "code",
   "execution_count": 9,
   "id": "84fb51fe",
   "metadata": {},
   "outputs": [
    {
     "name": "stdout",
     "output_type": "stream",
     "text": [
      "Inverse of matrix:\n",
      " [[-2.   1. ]\n",
      " [ 1.5 -0.5]]\n",
      "Determinant of matrix: -2.0000000000000004\n"
     ]
    }
   ],
   "source": [
    "# 6. Linear Algebra\n",
    "matrix = np.array([[1, 2], [3, 4]])\n",
    "inv_matrix = np.linalg.inv(matrix)\n",
    "det_matrix = np.linalg.det(matrix)\n",
    "\n",
    "print(\"Inverse of matrix:\\n\", inv_matrix)\n",
    "print(\"Determinant of matrix:\", det_matrix)\n"
   ]
  }
 ],
 "metadata": {
  "kernelspec": {
   "display_name": "Python 3",
   "language": "python",
   "name": "python3"
  },
  "language_info": {
   "codemirror_mode": {
    "name": "ipython",
    "version": 3
   },
   "file_extension": ".py",
   "mimetype": "text/x-python",
   "name": "python",
   "nbconvert_exporter": "python",
   "pygments_lexer": "ipython3",
   "version": "3.13.5"
  }
 },
 "nbformat": 4,
 "nbformat_minor": 5
}
