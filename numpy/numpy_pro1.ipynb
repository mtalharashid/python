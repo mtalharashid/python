{
 "cells": [
  {
   "cell_type": "markdown",
   "id": "fa849ecc",
   "metadata": {},
   "source": [
    "## Numpy array and basics \n",
    "Learn about numpy and code "
   ]
  },
  {
   "cell_type": "code",
   "execution_count": 6,
   "id": "a8d792d3",
   "metadata": {},
   "outputs": [],
   "source": [
    "import numpy as np"
   ]
  },
  {
   "cell_type": "markdown",
   "id": "d66e5bd8",
   "metadata": {},
   "source": [
    "## create array from list"
   ]
  },
  {
   "cell_type": "code",
   "execution_count": 7,
   "id": "315427d8",
   "metadata": {},
   "outputs": [
    {
     "name": "stdout",
     "output_type": "stream",
     "text": [
      "1d array:  [1 2 3 4 5]\n",
      "2d array:  [[1 2 3]\n",
      " [4 5 6]]\n"
     ]
    }
   ],
   "source": [
    "arr_1d = np.array([1, 2, 3, 4, 5])\n",
    "print(\"1d array: \", arr_1d)\n",
    "\n",
    "arr_2d = np.array([[1, 2, 3], [4, 5, 6]])\n",
    "print(\"2d array: \", arr_2d)"
   ]
  },
  {
   "cell_type": "markdown",
   "id": "82ea4e0c",
   "metadata": {},
   "source": [
    "## List vs numpy array"
   ]
  },
  {
   "cell_type": "code",
   "execution_count": 8,
   "id": "68f43fa7",
   "metadata": {},
   "outputs": [
    {
     "name": "stdout",
     "output_type": "stream",
     "text": [
      "pyhton list miltiplication [1, 2, 3, 1, 2, 3]\n",
      "Python array multiplication [2 4 6 8]\n",
      "\n",
      " list operation time:  0.0010218620300292969\n",
      "\n",
      " numpy operation time:  0.00013065338134765625\n"
     ]
    }
   ],
   "source": [
    "py_list = [1, 2, 3]\n",
    "print(\"pyhton list miltiplication\", py_list * 2)\n",
    "\n",
    "np_array = np.array([1, 2, 3, 4])\n",
    "print(\"Python array multiplication\", np_array * 2)\n",
    "\n",
    "import time\n",
    "start = time.time()\n",
    "\n",
    "py_list = [i*2 for i in range(10000)]\n",
    "print(\"\\n list operation time: \", time.time() -start)\n",
    "\n",
    "start = time.time()\n",
    "np_array = np.array(1000000) * 2\n",
    "print(\"\\n numpy operation time: \", time.time() - start)"
   ]
  },
  {
   "cell_type": "markdown",
   "id": "049f2226",
   "metadata": {},
   "source": [
    "## creating array from scratch  "
   ]
  },
  {
   "cell_type": "code",
   "execution_count": 9,
   "id": "e0931d3e",
   "metadata": {},
   "outputs": [
    {
     "name": "stdout",
     "output_type": "stream",
     "text": [
      "zero array \n",
      ": [[0. 0. 0. 0. 0.]\n",
      " [0. 0. 0. 0. 0.]\n",
      " [0. 0. 0. 0. 0.]]\n",
      "one array: \n",
      " [[1. 1. 1.]\n",
      " [1. 1. 1.]]\n"
     ]
    }
   ],
   "source": [
    "zeros = np.zeros((3, 5))\n",
    "print(\"zero array \\n:\" ,zeros)\n",
    "\n",
    "\n",
    "zeros = np.zeros((3, 5))\n",
    "\n",
    "ones = np.ones((2, 3))\n",
    "print(\"one array: \\n\", ones)"
   ]
  },
  {
   "cell_type": "markdown",
   "id": "658ca9f4",
   "metadata": {},
   "source": [
    "## get method np.full "
   ]
  },
  {
   "cell_type": "code",
   "execution_count": 10,
   "id": "79710ef4",
   "metadata": {},
   "outputs": [
    {
     "name": "stdout",
     "output_type": "stream",
     "text": [
      "full array: \n",
      "  [[7 7 7]]\n",
      "print random: \n",
      " [[0.83338506 0.43925342 0.75097053]\n",
      " [0.65053206 0.15386942 0.1232945 ]]\n",
      "print arange: \n",
      " [0 2 4 6 8]\n",
      "print arange: \n",
      " [0 3 6 9]\n"
     ]
    }
   ],
   "source": [
    "full = np.full((1, 3), 7)\n",
    "print(\"full array: \\n \", full)\n",
    "\n",
    "random = np.random.random([2, 3])\n",
    "print(\"print random: \\n\", random)\n",
    "\n",
    "sequence = np.arange(0, 10, 2)\n",
    "print(\"print arange: \\n\", sequence)\n",
    "\n",
    "sequence2 = np.arange(0, 10, 3)\n",
    "print(\"print arange: \\n\", sequence2)"
   ]
  },
  {
   "cell_type": "markdown",
   "id": "b70ca5f7",
   "metadata": {},
   "source": [
    "## Vector, metrics and tensor"
   ]
  },
  {
   "cell_type": "code",
   "execution_count": 11,
   "id": "6a17b2e8",
   "metadata": {},
   "outputs": [
    {
     "name": "stdout",
     "output_type": "stream",
     "text": [
      "Vector: \n",
      " [1 2 3]\n",
      "Matrics: \n",
      " [[1 2 3]\n",
      " [4 5 6]]\n",
      "Tensor: \n",
      " [[[1 2]\n",
      "  [3 4]]\n",
      "\n",
      " [[5 6]\n",
      "  [7 8]]]\n"
     ]
    }
   ],
   "source": [
    "vector = np.array([1, 2, 3])\n",
    "print(\"Vector: \\n\", vector)\n",
    "\n",
    "matrics = np.array([[1, 2, 3], [4, 5, 6]])\n",
    "print(\"Matrics: \\n\", matrics)\n",
    "\n",
    "tensor = np.array([\n",
    "    [[1, 2], [3, 4]],\n",
    "    [[5, 6], [7, 8]]\n",
    "])\n",
    "\n",
    "print(\"Tensor: \\n\", tensor)"
   ]
  },
  {
   "cell_type": "markdown",
   "id": "14c28572",
   "metadata": {},
   "source": [
    "## Array Properties "
   ]
  },
  {
   "cell_type": "code",
   "execution_count": 12,
   "id": "907b0221",
   "metadata": {},
   "outputs": [
    {
     "name": "stdout",
     "output_type": "stream",
     "text": [
      "Shape of array \n",
      " (2, 3)\n",
      "Dimention of array \n",
      " 2\n",
      "Size of array \n",
      " 6\n",
      "D-type of array \n",
      " int64\n"
     ]
    }
   ],
   "source": [
    "arr = np.array([[1, 2, 3], [4, 5, 6]])\n",
    "\n",
    "print(\"Shape of array \\n\", arr.shape)\n",
    "print(\"Dimention of array \\n\", arr.ndim)\n",
    "print(\"Size of array \\n\", arr.size)\n",
    "print(\"D-type of array \\n\", arr.dtype)"
   ]
  },
  {
   "cell_type": "markdown",
   "id": "7d2bc66f",
   "metadata": {},
   "source": [
    "## Array Reshaping "
   ]
  },
  {
   "cell_type": "code",
   "execution_count": 13,
   "id": "069cd8bd",
   "metadata": {},
   "outputs": [
    {
     "name": "stdout",
     "output_type": "stream",
     "text": [
      "orignal array:  [ 0  1  2  3  4  5  6  7  8  9 10 11]\n",
      "Re Shaped:  [[ 0  1  2]\n",
      " [ 3  4  5]\n",
      " [ 6  7  8]\n",
      " [ 9 10 11]]\n",
      "Flattened Array: \n",
      " [ 0  1  2  3  4  5  6  7  8  9 10 11]\n",
      "\n",
      " Reveled Array \n",
      "  [ 0  1  2  3  4  5  6  7  8  9 10 11]\n",
      "\n",
      " Transpaosed Array \n",
      " [[ 0  3  6  9]\n",
      " [ 1  4  7 10]\n",
      " [ 2  5  8 11]]\n"
     ]
    }
   ],
   "source": [
    "arr = np.arange(12)\n",
    "print(\"orignal array: \", arr)\n",
    "\n",
    "reshape = arr.reshape((4, 3))\n",
    "print(\"Re Shaped: \", reshape)\n",
    "\n",
    "flattened = reshape.flatten()\n",
    "print(\"Flattened Array: \\n\", flattened)\n",
    "\n",
    "#return view insted of copy\n",
    "reveled = reshape.ravel()\n",
    "print(\"\\n Reveled Array \\n \", reveled)\n",
    "\n",
    "#transpose \n",
    "transpose = reshape.T\n",
    "print(\"\\n Transpaosed Array \\n\", transpose)"
   ]
  }
 ],
 "metadata": {
  "kernelspec": {
   "display_name": "Python 3",
   "language": "python",
   "name": "python3"
  },
  "language_info": {
   "codemirror_mode": {
    "name": "ipython",
    "version": 3
   },
   "file_extension": ".py",
   "mimetype": "text/x-python",
   "name": "python",
   "nbconvert_exporter": "python",
   "pygments_lexer": "ipython3",
   "version": "3.13.5"
  }
 },
 "nbformat": 4,
 "nbformat_minor": 5
}
