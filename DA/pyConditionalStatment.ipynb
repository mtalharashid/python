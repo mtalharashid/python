{
 "cells": [
  {
   "cell_type": "markdown",
   "metadata": {},
   "source": [
    "# Module 2: Control Flow Assignments\n",
    "## Conditional Statements"
   ]
  },
  {
   "cell_type": "markdown",
   "id": "af83237d",
   "metadata": {},
   "source": [
    "### 1: Simple if Statement\n",
    "\n",
    "Write a program that asks the user to input a number and prints whether the number is positive."
   ]
  },
  {
   "cell_type": "code",
   "execution_count": 2,
   "id": "01842fb5",
   "metadata": {},
   "outputs": [
    {
     "name": "stdout",
     "output_type": "stream",
     "text": [
      "number is negative\n"
     ]
    }
   ],
   "source": [
    "def find_positive_number(n):\n",
    "    if n > 0:\n",
    "        print(\"number is positive\")\n",
    "    else: \n",
    "        print(\"number is negative\")\n",
    "\n",
    "number = -10\n",
    "find_positive_number(number)"
   ]
  },
  {
   "cell_type": "markdown",
   "id": "0f608927",
   "metadata": {},
   "source": [
    "### 2: if-else Statement\n",
    "\n",
    "Write a program that asks the user to input a number and prints whether the number is positive or negative."
   ]
  },
  {
   "cell_type": "code",
   "execution_count": 5,
   "id": "6d6dab8e",
   "metadata": {},
   "outputs": [
    {
     "name": "stdout",
     "output_type": "stream",
     "text": [
      "number is negative\n"
     ]
    }
   ],
   "source": [
    "def find_positive_number(n):\n",
    "    if n > 0:\n",
    "        print(\"number is positive\")\n",
    "    else: \n",
    "        print(\"number is negative\")\n",
    "\n",
    "number = int(input(\"Enter a number and find its positive and negative: \"))\n",
    "find_positive_number(number)"
   ]
  },
  {
   "cell_type": "markdown",
   "id": "b0ab0e75",
   "metadata": {},
   "source": [
    "### 3: if-elif-else Statement\n",
    "\n",
    "Write a program that asks the user to input a number and prints whether the number is positive, negative, or zero."
   ]
  },
  {
   "cell_type": "code",
   "execution_count": 6,
   "id": "0ed69e87",
   "metadata": {},
   "outputs": [
    {
     "name": "stdout",
     "output_type": "stream",
     "text": [
      "its a zero\n"
     ]
    }
   ],
   "source": [
    "def find_positive_number(n):\n",
    "    if n > 0:\n",
    "        print(\"number is positive\")\n",
    "    elif n == 0:\n",
    "        print(\"its a zero\")\n",
    "    else: \n",
    "        print(\"number is negative\")\n",
    "\n",
    "number = int(input(\"Enter a number and find its positive and negative: \"))\n",
    "find_positive_number(number)"
   ]
  },
  {
   "cell_type": "markdown",
   "id": "78754bcb",
   "metadata": {},
   "source": [
    "### 4: Nested if Statement\n",
    "\n",
    "Write a program that asks the user to input a number and prints whether the number is positive and even, positive and odd, or negative."
   ]
  },
  {
   "cell_type": "code",
   "execution_count": 10,
   "id": "24167bd1",
   "metadata": {},
   "outputs": [
    {
     "name": "stdout",
     "output_type": "stream",
     "text": [
      "your number is positive and odd\n"
     ]
    }
   ],
   "source": [
    "def find_positive_number(n):\n",
    "    if n > 0:\n",
    "        if n % 2 == 0:\n",
    "            print(\"your number is positive and Even\")\n",
    "        else:\n",
    "            print(\"your number is positive and odd\")\n",
    "    elif n == 0:\n",
    "        print(\"its a zero\")\n",
    "    else: \n",
    "        print(\"number is negative\")\n",
    "\n",
    "number = int(input(\"Enter a number and find its positive and negative \\n find is even or odd: \"))\n",
    "find_positive_number(number)"
   ]
  },
  {
   "cell_type": "markdown",
   "id": "a737611a",
   "metadata": {},
   "source": [
    "## 5 For Loops\n",
    "\n",
    "Write a program that prints all the numbers from 1 to 10 using a for loop."
   ]
  },
  {
   "cell_type": "code",
   "execution_count": 41,
   "id": "07a2f46b",
   "metadata": {},
   "outputs": [
    {
     "name": "stdout",
     "output_type": "stream",
     "text": [
      "1\n",
      "2\n",
      "3\n",
      "4\n",
      "5\n",
      "6\n",
      "7\n",
      "8\n",
      "9\n",
      "10\n"
     ]
    }
   ],
   "source": [
    "for i in range(1, 11):\n",
    "    print(i)"
   ]
  },
  {
   "cell_type": "markdown",
   "id": "152068e5",
   "metadata": {},
   "source": [
    "### 6: while Loop\n",
    "\n",
    "Write a program that prints all the numbers from 1 to 10 using a while loop."
   ]
  },
  {
   "cell_type": "code",
   "execution_count": 16,
   "id": "76797b8e",
   "metadata": {},
   "outputs": [
    {
     "name": "stdout",
     "output_type": "stream",
     "text": [
      "1\n",
      "2\n",
      "3\n",
      "4\n",
      "5\n",
      "6\n",
      "7\n",
      "8\n",
      "9\n",
      "10\n"
     ]
    }
   ],
   "source": [
    "number = 1\n",
    "while number <= 10:\n",
    "    print(number)\n",
    "    number += 1\n",
    "    "
   ]
  },
  {
   "cell_type": "markdown",
   "id": "8a8100bb",
   "metadata": {},
   "source": [
    "### 7: Nested Loops\n",
    "\n",
    "Write a program that prints a 5x5 grid of asterisks (*) using nested loops."
   ]
  },
  {
   "cell_type": "code",
   "execution_count": 23,
   "id": "98e0b681",
   "metadata": {},
   "outputs": [
    {
     "name": "stdout",
     "output_type": "stream",
     "text": [
      "* * * * * \n",
      "* * * * * \n",
      "* * * * * \n",
      "* * * * * \n",
      "* * * * * \n"
     ]
    }
   ],
   "source": [
    "for i in range(1, 5 +1):\n",
    "    for j in range(1, 5+1):\n",
    "        print(\"*\", end=\" \")\n",
    "    print()\n",
    "    \n"
   ]
  },
  {
   "cell_type": "markdown",
   "id": "5a5969b2",
   "metadata": {},
   "source": [
    "### 8: break Statement\n",
    "\n",
    "Write a program that asks the user to input numbers until they input 0. The program should print the sum of all the input numbers."
   ]
  },
  {
   "cell_type": "code",
   "execution_count": null,
   "id": "d1f2249a",
   "metadata": {},
   "outputs": [
    {
     "name": "stdout",
     "output_type": "stream",
     "text": [
      "20\n"
     ]
    }
   ],
   "source": [
    "total = 0\n",
    "\n",
    "while True:\n",
    "    number = int(input(\"Enter a number to add: \"))\n",
    "    if number == 0:\n",
    "        break\n",
    "    else:\n",
    "        total += number\n",
    "print(total)"
   ]
  },
  {
   "cell_type": "markdown",
   "id": "e14229d8",
   "metadata": {},
   "source": [
    "### 9: continue Statement\n",
    "\n",
    "Write a program that prints all the numbers from 1 to 10 except 5 using a for loop and continue statement."
   ]
  },
  {
   "cell_type": "code",
   "execution_count": 28,
   "id": "1d6301fe",
   "metadata": {},
   "outputs": [
    {
     "name": "stdout",
     "output_type": "stream",
     "text": [
      "1\n",
      "2\n",
      "3\n",
      "4\n",
      "6\n",
      "7\n",
      "8\n",
      "9\n",
      "10\n"
     ]
    }
   ],
   "source": [
    "number = 1\n",
    "while number <= 10:\n",
    "    if number != 5:\n",
    "        print(number)\n",
    "    number += 1"
   ]
  },
  {
   "cell_type": "markdown",
   "id": "1ceb7725",
   "metadata": {},
   "source": [
    "### 10: pass Statement\n",
    "\n",
    "Write a program that defines an empty function using the pass statement. "
   ]
  },
  {
   "cell_type": "code",
   "execution_count": null,
   "id": "9763f73f",
   "metadata": {},
   "outputs": [
    {
     "name": "stdout",
     "output_type": "stream",
     "text": [
      "empty function was defined and called successfully\n"
     ]
    }
   ],
   "source": [
    "def empty_function():\n",
    "    # your logic must be here \n",
    "    pass \n",
    "\n",
    "empty_function()\n",
    "print(\"empty function was defined and called successfully\")"
   ]
  },
  {
   "cell_type": "markdown",
   "id": "85dc74b0",
   "metadata": {},
   "source": [
    "### 11: Combining Loops and Conditionals\n",
    "\n",
    "Write a program that asks the user to input a number and prints all the even numbers from 1 to that number using a for loop."
   ]
  },
  {
   "cell_type": "code",
   "execution_count": 32,
   "id": "61a6005f",
   "metadata": {},
   "outputs": [
    {
     "name": "stdout",
     "output_type": "stream",
     "text": [
      "15\n",
      "13\n",
      "11\n",
      "9\n",
      "7\n",
      "5\n",
      "3\n",
      "1\n"
     ]
    }
   ],
   "source": [
    "number = int(input(\"Enter a number to get even number: \"))\n",
    "while number >= 0:\n",
    "    if number%2 != 0:\n",
    "        print(number)\n",
    "    number -= 1"
   ]
  },
  {
   "cell_type": "markdown",
   "id": "1a99c3f9",
   "metadata": {},
   "source": [
    "### 14: Prime Number Check\n",
    "\n",
    "Write a program that checks if a number input by the user is a prime number using a for loop."
   ]
  },
  {
   "cell_type": "code",
   "execution_count": 35,
   "id": "6d151874",
   "metadata": {},
   "outputs": [
    {
     "name": "stdout",
     "output_type": "stream",
     "text": [
      "9 is not a prime number\n"
     ]
    }
   ],
   "source": [
    "num = int(input(\"Enter a number: \"))\n",
    "\n",
    "if num <= 1:\n",
    "    print(num, \"is not a prime number\")\n",
    "else:\n",
    "    is_prime = True\n",
    "    for i in range(2, int(num**0.5) + 1):  # check up to sqrt(num)\n",
    "        if num % i == 0:\n",
    "            is_prime = False\n",
    "            break\n",
    "\n",
    "    if is_prime:\n",
    "        print(num, \"is a prime number\")\n",
    "    else:\n",
    "        print(num, \"is not a prime number\")"
   ]
  },
  {
   "cell_type": "markdown",
   "id": "40659f4e",
   "metadata": {},
   "source": [
    "### 15: Fibonacci Sequence\n",
    "\n",
    "Write a program that prints the first n Fibonacci numbers, where n is input by the user."
   ]
  },
  {
   "cell_type": "code",
   "execution_count": 37,
   "id": "336f5354",
   "metadata": {},
   "outputs": [
    {
     "name": "stdout",
     "output_type": "stream",
     "text": [
      "Fibonacci sequence:\n",
      "0 1 1 2 3 5 8 13 21 34 55 89 144 233 377 610 987 1597 2584 4181 "
     ]
    }
   ],
   "source": [
    "def fibonacci_iterative(n_terms):\n",
    "    a, b = 0, 1\n",
    "    if n_terms <= 0:\n",
    "        print(\"Please enter a positive integer.\")\n",
    "    elif n_terms == 1:\n",
    "        print(\"Fibonacci sequence up to 1 term:\")\n",
    "        print(a)\n",
    "    else:\n",
    "        print(\"Fibonacci sequence:\")\n",
    "        for _ in range(n_terms):\n",
    "            print(a, end=\" \")\n",
    "            a, b = b, a + b\n",
    "\n",
    "# Example usage:\n",
    "number = int(input(\"Enter number to find Fibonacci Sequence: \"))\n",
    "fibonacci_iterative(number)"
   ]
  }
 ],
 "metadata": {
  "kernelspec": {
   "display_name": "base",
   "language": "python",
   "name": "python3"
  },
  "language_info": {
   "codemirror_mode": {
    "name": "ipython",
    "version": 3
   },
   "file_extension": ".py",
   "mimetype": "text/x-python",
   "name": "python",
   "nbconvert_exporter": "python",
   "pygments_lexer": "ipython3",
   "version": "3.13.5"
  }
 },
 "nbformat": 4,
 "nbformat_minor": 5
}
