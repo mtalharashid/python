{
 "cells": [
  {
   "cell_type": "markdown",
   "metadata": {},
   "source": [
    "# Data Structures Programs\n",
    "## Lists"
   ]
  },
  {
   "cell_type": "markdown",
   "id": "741845e6",
   "metadata": {},
   "source": [
    "### 1: Creating and Accessing Lists\n",
    "\n",
    "Create a list of the first 20 positive integers. Print the list."
   ]
  },
  {
   "cell_type": "code",
   "execution_count": 2,
   "id": "a47216df",
   "metadata": {},
   "outputs": [
    {
     "name": "stdout",
     "output_type": "stream",
     "text": [
      "[1, 2, 3, 4, 5, 6, 7, 8, 9, 10, 11, 12, 13, 14, 15, 16, 17, 18, 19, 20]\n"
     ]
    }
   ],
   "source": [
    "positive_integer = list(range(1,21))\n",
    "print(positive_integer)"
   ]
  },
  {
   "cell_type": "markdown",
   "id": "b17b640e",
   "metadata": {},
   "source": [
    "### 2: Accessing List Elements\n",
    "\n",
    "Print the first, middle, and last elements of the list."
   ]
  },
  {
   "cell_type": "code",
   "execution_count": 7,
   "id": "fc2bf7a9",
   "metadata": {},
   "outputs": [
    {
     "name": "stdout",
     "output_type": "stream",
     "text": [
      "First element: 1 - Middle element of the list: 10 - Last element 20\n"
     ]
    }
   ],
   "source": [
    "middle_element = len(positive_integer) // 2\n",
    "print(\"First element:\",positive_integer[0], \"- Middle element of the list:\", middle_element ,\"- Last element\",positive_integer[-1])"
   ]
  },
  {
   "cell_type": "markdown",
   "id": "3f739380",
   "metadata": {},
   "source": [
    "### 3: List Slicing\n",
    "\n",
    "Print the first five elements, the last five elements, and the elements from index 5 to 15 of the list"
   ]
  },
  {
   "cell_type": "code",
   "execution_count": 18,
   "id": "7f778cb0",
   "metadata": {},
   "outputs": [
    {
     "name": "stdout",
     "output_type": "stream",
     "text": [
      "[1, 2, 3, 4, 5] [16, 17, 18, 19, 20] [5, 6, 7, 8, 9, 10, 11, 12, 13, 14, 15]\n"
     ]
    }
   ],
   "source": [
    "first_5_element = positive_integer[:5]\n",
    "last_5_element = positive_integer[-5:]\n",
    "middle_elements_list = positive_integer[4:15]\n",
    "print(first_5_element, last_5_element, middle_elements_list)"
   ]
  },
  {
   "cell_type": "markdown",
   "id": "19d0bda1",
   "metadata": {},
   "source": [
    "### 4: List Comprehensions\n",
    "\n",
    "Create a new list containing the squares of the first 10 positive integers using a list comprehension. Print the new list."
   ]
  },
  {
   "cell_type": "code",
   "execution_count": 24,
   "id": "8d59c8cb",
   "metadata": {},
   "outputs": [
    {
     "name": "stdout",
     "output_type": "stream",
     "text": [
      "[1, 4, 9, 16, 25, 36, 49, 64, 81, 100]\n"
     ]
    }
   ],
   "source": [
    "square_list = [i**2 for i in range(1, 11)]\n",
    "print(square_list)"
   ]
  },
  {
   "cell_type": "markdown",
   "id": "fbf2a8da",
   "metadata": {},
   "source": [
    "### 5: Filtering Lists\n",
    "\n",
    "Create a new list containing only the even numbers from the list created in program 1 using a list comprehension. Print the new list."
   ]
  },
  {
   "cell_type": "code",
   "execution_count": 26,
   "id": "c07cb862",
   "metadata": {},
   "outputs": [
    {
     "name": "stdout",
     "output_type": "stream",
     "text": [
      "[2, 4, 6, 8, 10, 12, 14, 16, 18, 20]\n"
     ]
    }
   ],
   "source": [
    "even_numbers = [num for num in positive_integer if num % 2 == 0]\n",
    "print(even_numbers)"
   ]
  },
  {
   "cell_type": "markdown",
   "id": "fb63d374",
   "metadata": {},
   "source": [
    "### 6: List Methods\n",
    "\n",
    "Create a list of random numbers and sort it in ascending and descending order. Remove the duplicates from the list and print the modified list."
   ]
  },
  {
   "cell_type": "code",
   "execution_count": null,
   "id": "d548dfc9",
   "metadata": {},
   "outputs": [
    {
     "name": "stdout",
     "output_type": "stream",
     "text": [
      "Assending Order [3, 7, 8, 10, 11, 13, 14, 14, 16, 17] Decending Order [17, 16, 14, 14, 13, 11, 10, 8, 7, 3]\n"
     ]
    }
   ],
   "source": [
    "import random\n",
    "random_number = [random.randint(1, 20) for _ in range(10)]\n",
    "print(\"Ascending Order\", sorted(random_number), \"Descending Order\", sorted(random_number, reverse=True))"
   ]
  },
  {
   "cell_type": "markdown",
   "id": "81dff396",
   "metadata": {},
   "source": [
    "### 7: Nested Lists\n",
    "\n",
    "Create a nested list representing a 3x3 matrix and print the matrix. Access and print the element at the second row and third column."
   ]
  },
  {
   "cell_type": "code",
   "execution_count": 36,
   "id": "eb9c433f",
   "metadata": {},
   "outputs": [
    {
     "name": "stdout",
     "output_type": "stream",
     "text": [
      "[1, 2, 3, 4, 5]\n",
      "[6, 7, 8, 9, 10]\n",
      "[11, 12, 13, 14, 15]\n",
      "Element at 2nd row and third column 8\n"
     ]
    }
   ],
   "source": [
    "matrix = [[1,2,3,4,5],[6,7,8,9,10],[11,12,13,14,15]]\n",
    "for row in matrix:\n",
    "    print(row)\n",
    "\n",
    "print(\"Element at 2nd row and third column\", matrix[1][2])"
   ]
  },
  {
   "cell_type": "markdown",
   "id": "7ad7da62",
   "metadata": {},
   "source": [
    "### 8: List of Dictionaries\n",
    "\n",
    "Create a list of dictionaries where each dictionary represents a student with keys 'name' and 'score'. Sort the list of dictionaries by the 'score' in descending order and print the sorted list."
   ]
  },
  {
   "cell_type": "code",
   "execution_count": 37,
   "id": "c26ce26a",
   "metadata": {},
   "outputs": [
    {
     "name": "stdout",
     "output_type": "stream",
     "text": [
      "Students sorted by score (descending):\n",
      "{'name': 'Anna', 'score': 82}\n",
      "{'name': 'Talha', 'score': 80}\n",
      "{'name': 'Hood', 'score': 79}\n",
      "{'name': 'Alex', 'score': 62}\n",
      "{'name': 'Jon', 'score': 56}\n"
     ]
    }
   ],
   "source": [
    "students = [\n",
    "    {\"name\": \"Alex\", \"score\": 62},\n",
    "    {\"name\": \"Talha\", \"score\": 80},\n",
    "    {\"name\": \"Jon\", \"score\": 56},\n",
    "    {\"name\": \"Hood\", \"score\": 79},\n",
    "    {\"name\": \"Anna\", \"score\": 82}\n",
    "]\n",
    "\n",
    "student_sort = sorted(students, key=lambda x: x['score'], reverse=True)\n",
    "\n",
    "print(\"Students sorted by score (descending):\")\n",
    "for student in student_sort:\n",
    "    print(student)"
   ]
  },
  {
   "cell_type": "markdown",
   "id": "ce06ef3a",
   "metadata": {},
   "source": [
    "### 9: Matrix Transposition\n",
    "\n",
    "Write a function that takes a 3x3 matrix (nested list) as input and returns its transpose. Print the original and transposed matrices."
   ]
  },
  {
   "cell_type": "code",
   "execution_count": 41,
   "id": "17a14dc8",
   "metadata": {},
   "outputs": [
    {
     "name": "stdout",
     "output_type": "stream",
     "text": [
      "transpose [[1, 4, 7], [2, 5, 8], [3, 6, 9]]\n",
      "Original Matrix:\n",
      "[1, 2, 3]\n",
      "[4, 5, 6]\n",
      "[7, 8, 9]\n",
      "\n",
      "Transposed Matrix:\n",
      "[1, 4, 7]\n",
      "[2, 5, 8]\n",
      "[3, 6, 9]\n"
     ]
    }
   ],
   "source": [
    "def transpose_matrix(matrix):\n",
    "    # Using list comprehension to transpose\n",
    "    transpose = [[matrix[j][i] for j in range(3)] for i in range(3)]\n",
    "    return transpose\n",
    "\n",
    "\n",
    "# Original 3x3 matrix\n",
    "matrix = [\n",
    "    [1, 2, 3],\n",
    "    [4, 5, 6],\n",
    "    [7, 8, 9]\n",
    "]\n",
    "transposed = transpose_matrix(matrix)\n",
    "print(\"transpose\", transposed)\n",
    "# Print both\n",
    "print(\"Original Matrix:\")\n",
    "for row in matrix:\n",
    "    print(row)\n",
    "\n",
    "print(\"\\nTransposed Matrix:\")\n",
    "for row in transposed:\n",
    "    print(row)"
   ]
  },
  {
   "cell_type": "markdown",
   "id": "04d64c94",
   "metadata": {},
   "source": [
    "### 10: Flattening a Nested List\n",
    "\n",
    "Write a function that takes a nested list and flattens it into a single list. Print the original and flattened lists."
   ]
  },
  {
   "cell_type": "code",
   "execution_count": null,
   "id": "c78a1e5c",
   "metadata": {},
   "outputs": [
    {
     "name": "stdout",
     "output_type": "stream",
     "text": [
      "Flattened List [1, 2, 3, 4, 5, 6, 7, 8, 9]\n"
     ]
    }
   ],
   "source": [
    "flattened = [num for row in matrix for num in row]\n",
    "\n",
    "print(\"Flattened List\", flattened)"
   ]
  },
  {
   "cell_type": "markdown",
   "id": "68b7977a",
   "metadata": {},
   "source": [
    "### 11: List Manipulation\n",
    "\n",
    "Create a list of the first 10 positive integers. Remove the elements at indices 2, 4, and 6, and insert the element '99' at index 5. Print the modified list."
   ]
  },
  {
   "cell_type": "code",
   "execution_count": 53,
   "id": "82379728",
   "metadata": {},
   "outputs": [
    {
     "name": "stdout",
     "output_type": "stream",
     "text": [
      "Original list: [1, 2, 3, 4, 5, 6, 7, 8, 9, 10]\n",
      "Modified list: [1, 2, 4, 6, 8, 99, 9, 10]\n"
     ]
    }
   ],
   "source": [
    "numbers = list(range(1, 11))\n",
    "print(\"Original list:\", numbers)\n",
    "\n",
    "for i in sorted([2, 4, 6], reverse=True):\n",
    "    del numbers[i]\n",
    "\n",
    "numbers.insert(5, 99)\n",
    "\n",
    "print(\"Modified list:\", numbers)"
   ]
  },
  {
   "cell_type": "markdown",
   "id": "7520df04",
   "metadata": {},
   "source": [
    "### 12: List Zipping\n",
    "\n",
    "Create two lists of the same length. Use the `zip` function to combine these lists into a list of tuples and print the result."
   ]
  },
  {
   "cell_type": "code",
   "execution_count": 56,
   "id": "f6134162",
   "metadata": {},
   "outputs": [
    {
     "name": "stdout",
     "output_type": "stream",
     "text": [
      "[('Talha', 'UAE'), ('Sara', 'Italy'), ('Julia', 'Germany'), ('Mariyam', 'Malaysia'), ('Carrie', 'USA')]\n"
     ]
    }
   ],
   "source": [
    "List1 = [\"Talha\", \"Sara\", \"Julia\", \"Mariyam\", \"Carrie\"]\n",
    "list2 = [\"UAE\", \"Italy\", \"Germany\", \"Malaysia\", \"USA\"]\n",
    "\n",
    "combine_list = zip(List1, list2)\n",
    "\n",
    "print(list(combine_list))\n"
   ]
  },
  {
   "cell_type": "markdown",
   "id": "89a02cb6",
   "metadata": {},
   "source": [
    "### 13: List Reversal\n",
    "\n",
    "Write a function that takes a list and returns a new list with the elements in reverse order. Print the original and reversed lists."
   ]
  },
  {
   "cell_type": "code",
   "execution_count": 7,
   "id": "85b80640",
   "metadata": {},
   "outputs": [
    {
     "name": "stdout",
     "output_type": "stream",
     "text": [
      "Your original list: ['11', '25', '21', '14', '69', '85', '48']\n",
      "Your Reverse list: ['85', '69', '48', '25', '21', '14', '11']\n"
     ]
    }
   ],
   "source": [
    "def get_list_user():\n",
    "    user_list = []\n",
    "    while True:\n",
    "        get_list = input(\"Enter an element for list (type 0 to stop): \")\n",
    "        if get_list == \"0\":\n",
    "            break\n",
    "        else:\n",
    "            user_list.append(get_list)\n",
    "    return user_list\n",
    "\n",
    "# Call the function once and store the result\n",
    "original_user_list = get_list_user()\n",
    "print(\"Your original list:\", original_user_list)\n",
    "print(\"Your Reverse list:\", sorted(original_user_list, reverse=True))"
   ]
  },
  {
   "cell_type": "markdown",
   "id": "c22cb4ee",
   "metadata": {},
   "source": [
    "### 14: List Rotation\n",
    "\n",
    "Write a function that rotates a list by n positions. Print the original and rotated lists."
   ]
  },
  {
   "cell_type": "code",
   "execution_count": 8,
   "id": "91015a4b",
   "metadata": {},
   "outputs": [
    {
     "name": "stdout",
     "output_type": "stream",
     "text": [
      "Original list: [1, 2, 3, 4, 5]\n",
      "Rotated list (right by 2): [4, 5, 1, 2, 3]\n",
      "Rotated list (left by 2): [3, 4, 5, 1, 2]\n"
     ]
    }
   ],
   "source": [
    "def rotate_list(lst, n):\n",
    "    n = n % len(lst)\n",
    "    return lst[-n:] + lst[:-n]\n",
    "\n",
    "original_list = [1, 2, 3, 4, 5]\n",
    "\n",
    "rotated_list = rotate_list(original_list, 2)\n",
    "print(\"Original list:\", original_list)\n",
    "print(\"Rotated list (right by 2):\", rotated_list)\n",
    "\n",
    "rotated_list_left = rotate_list(original_list, -2)\n",
    "print(\"Rotated list (left by 2):\", rotated_list_left)"
   ]
  },
  {
   "cell_type": "markdown",
   "id": "a0e6cfa8",
   "metadata": {},
   "source": [
    "### 15: List Intersection\n",
    "\n",
    "Write a function that takes two lists and returns a new list containing only the elements that are present in both lists. Print the intersected list."
   ]
  },
  {
   "cell_type": "code",
   "execution_count": 9,
   "id": "d6fa715c",
   "metadata": {},
   "outputs": [
    {
     "name": "stdout",
     "output_type": "stream",
     "text": [
      "List A: [1, 2, 3, 4, 5]\n",
      "List B: [4, 5, 6, 7, 8]\n",
      "Intersected List: [4, 5]\n"
     ]
    }
   ],
   "source": [
    "def intersect_lists(list1, list2):\n",
    "    return [item for item in list1 if item in list2]\n",
    "\n",
    "list_a = [1, 2, 3, 4, 5]\n",
    "list_b = [4, 5, 6, 7, 8]\n",
    "\n",
    "intersected_list = intersect_lists(list_a, list_b)\n",
    "\n",
    "print(\"List A:\", list_a)\n",
    "print(\"List B:\", list_b)\n",
    "print(\"Intersected List:\", intersected_list)"
   ]
  }
 ],
 "metadata": {
  "kernelspec": {
   "display_name": "base",
   "language": "python",
   "name": "python3"
  },
  "language_info": {
   "codemirror_mode": {
    "name": "ipython",
    "version": 3
   },
   "file_extension": ".py",
   "mimetype": "text/x-python",
   "name": "python",
   "nbconvert_exporter": "python",
   "pygments_lexer": "ipython3",
   "version": "3.13.5"
  }
 },
 "nbformat": 4,
 "nbformat_minor": 5
}
