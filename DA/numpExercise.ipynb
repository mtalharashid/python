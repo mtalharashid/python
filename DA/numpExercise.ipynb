{
 "cells": [
  {
   "cell_type": "code",
   "execution_count": 1,
   "id": "068b6c43",
   "metadata": {},
   "outputs": [],
   "source": [
    "import numpy as np"
   ]
  },
  {
   "cell_type": "markdown",
   "metadata": {},
   "source": [
    "# NumPy Exercises"
   ]
  },
  {
   "cell_type": "markdown",
   "id": "ffd494ce",
   "metadata": {},
   "source": [
    "### Exercise 1: Array Creation and Manipulation\n",
    "\n",
    "1.1 Create a NumPy array of shape (5, 5) filled with random integers between 1 and 20. Replace all the elements in the third column with 1."
   ]
  },
  {
   "cell_type": "code",
   "execution_count": 6,
   "id": "109e9dd0",
   "metadata": {},
   "outputs": [
    {
     "name": "stdout",
     "output_type": "stream",
     "text": [
      "Original Array [[ 6 17  3  1  9]\n",
      " [10  8 16  1  2]\n",
      " [ 9  2  6 16 17]\n",
      " [ 1  1 18 15 15]\n",
      " [ 5 17 16  5  4]]\n",
      "Replace element of 2nd column [[ 6 17  1  1  9]\n",
      " [10  8  1  1  2]\n",
      " [ 9  2  1 16 17]\n",
      " [ 1  1  1 15 15]\n",
      " [ 5 17  1  5  4]]\n"
     ]
    }
   ],
   "source": [
    "numpy_array = np.random.randint(1,20, size=(5,5))\n",
    "print(\"Original Array\",numpy_array)\n",
    "numpy_array[:,2] = 1\n",
    "print(\"Replace element of 2nd column\",numpy_array)"
   ]
  },
  {
   "cell_type": "markdown",
   "id": "8db2f3c1",
   "metadata": {},
   "source": [
    "1.2 Create a NumPy array of shape (4, 4) with values from 1 to 16. Replace the diagonal elements with 0."
   ]
  },
  {
   "cell_type": "markdown",
   "id": "9dd2a239",
   "metadata": {},
   "source": [
    "### Exercise 2: Array Indexing and Slicing\n",
    "\n",
    "2.1: Create a NumPy array of shape (6, 6) with values from 1 to 36. Extract the sub-array consisting of the 3rd to 5th rows and 2nd to 4th columns."
   ]
  },
  {
   "cell_type": "code",
   "execution_count": 13,
   "id": "27a39354",
   "metadata": {},
   "outputs": [
    {
     "name": "stdout",
     "output_type": "stream",
     "text": [
      "Original Array \n",
      " [[24 35  1 26  5 17]\n",
      " [17 37 12 35  7 17]\n",
      " [24 17  2 13  7 29]\n",
      " [ 7  2 12 23 10 17]\n",
      " [37 12 36 25 24  1]\n",
      " [24 20 15 31 32 27]]\n",
      "\n",
      " \n",
      " sub array 3 to 5 row \n",
      " [[ 7  2 12 23 10 17]\n",
      " [37 12 36 25 24  1]\n",
      " [24 20 15 31 32 27]]\n",
      "\n",
      " \n",
      " sub array 2 to 4 column \n",
      " [[ 1 26  5]\n",
      " [12 35  7]\n",
      " [ 2 13  7]\n",
      " [12 23 10]\n",
      " [36 25 24]\n",
      " [15 31 32]]\n"
     ]
    }
   ],
   "source": [
    "array_six = np.random.randint(1,38, size=(6,6))\n",
    "print(\"Original Array \\n\",array_six)\n",
    "\n",
    "# get sub array with row\n",
    "sub_array_row = array_six[3:6]\n",
    "print(\"\\n \\n sub array 3 to 5 row \\n\",sub_array_row)\n",
    "\n",
    "# get sub array with column\n",
    "sub_array_row = array_six[:,2:5]\n",
    "print(\"\\n \\n sub array 2 to 4 column \\n\",sub_array_row)"
   ]
  },
  {
   "cell_type": "markdown",
   "id": "df65dfc4",
   "metadata": {},
   "source": [
    "\n",
    "2.2. Create a NumPy array of shape (5, 5) with random integers. Extract the elements on the border."
   ]
  },
  {
   "cell_type": "code",
   "execution_count": 25,
   "id": "b504700c",
   "metadata": {},
   "outputs": [
    {
     "name": "stdout",
     "output_type": "stream",
     "text": [
      "[[19 20 17 10 18]\n",
      " [14  1  8 12 17]\n",
      " [11 13 16 17 16]\n",
      " [ 3 15  9  2  3]\n",
      " [18 14  9  7  2]]\n",
      "Top Slice of Array [19 20 17 10 18]\n",
      "Top Slice of Array [18 14  9  7  2]\n",
      "Top Slice of Array [19 14 11  3 18]\n",
      "Top Slice of Array [18 17 16  3  2]\n",
      "\n",
      " Border Elements [19 20 17 10 18 18 14  9  7  2 18  3 11 14 19  2  3 16 17 18]\n"
     ]
    }
   ],
   "source": [
    "random_array = np.random.randint(1, 21 ,size=(5, 5))\n",
    "print(random_array)\n",
    "\n",
    "# get border elements\n",
    "top_element = random_array[0]\n",
    "print(\"Top Slice of Array\" ,top_element)\n",
    "bottom_element = random_array[-1]\n",
    "print(\"Top Slice of Array\" ,bottom_element)\n",
    "left_element = random_array[:,0]\n",
    "print(\"Top Slice of Array\" ,left_element)\n",
    "right_element = random_array[:,-1]\n",
    "print(\"Top Slice of Array\" , right_element)\n",
    "\n",
    "## now concatenate these arrays\n",
    "extract = np.concatenate([top_element, bottom_element, left_element[::-1], right_element[::-1]])\n",
    "print(\"\\n Border Elements\", extract)"
   ]
  },
  {
   "cell_type": "markdown",
   "id": "257bad1f",
   "metadata": {},
   "source": [
    "### Exercise 3: Array Operations\n",
    "\n",
    "1. Create two NumPy arrays of shape (3, 4) filled with random integers. Perform element-wise addition, subtraction, multiplication, and division."
   ]
  },
  {
   "cell_type": "code",
   "execution_count": 36,
   "id": "1e9d8ed0",
   "metadata": {},
   "outputs": [
    {
     "name": "stdout",
     "output_type": "stream",
     "text": [
      "first array\n",
      " [[20  9 18  5]\n",
      " [14 20  8  6]\n",
      " [15 13  5  1]] \n",
      "second array \n",
      " [[ 5 15 10 17]\n",
      " [12 16 14 14]\n",
      " [13  6  8  8]]\n",
      "\n",
      "sum of two arrays \n",
      " [[25 24 28 22]\n",
      " [26 36 22 20]\n",
      " [28 19 13  9]]\n",
      "\n",
      "sub of two arrays \n",
      " [[ 15  -6   8 -12]\n",
      " [  2   4  -6  -8]\n",
      " [  2   7  -3  -7]]\n",
      "\n",
      "multiply of two arrays \n",
      " [[100 135 180  85]\n",
      " [168 320 112  84]\n",
      " [195  78  40   8]]\n",
      "\n",
      "division of two arrays \n",
      " [[4.         0.6        1.8        0.29411765]\n",
      " [1.16666667 1.25       0.57142857 0.42857143]\n",
      " [1.15384615 2.16666667 0.625      0.125     ]]\n"
     ]
    }
   ],
   "source": [
    "num_array1 = np.random.randint(1, 21, size=(3,4))\n",
    "num_array2 = np.random.randint(1, 21, size=(3,4))\n",
    "\n",
    "print(f\"first array\\n {num_array1} \\nsecond array \\n {num_array2}\")\n",
    "\n",
    "addition = num_array1 + num_array2\n",
    "print(\"\\nsum of two arrays \\n\",addition)\n",
    "\n",
    "addition = num_array1 - num_array2\n",
    "print(\"\\nsub of two arrays \\n\",addition)\n",
    "\n",
    "addition = num_array1 * num_array2\n",
    "print(\"\\nmultiply of two arrays \\n\",addition)\n",
    "\n",
    "addition = num_array1 / num_array2\n",
    "print(\"\\ndivision of two arrays \\n\",addition)"
   ]
  },
  {
   "cell_type": "markdown",
   "id": "8c11c3d3",
   "metadata": {},
   "source": [
    "\n",
    "2. Create a NumPy array of shape (4, 4) with values from 1 to 16. Compute the row-wise and column-wise sum."
   ]
  },
  {
   "cell_type": "code",
   "execution_count": null,
   "id": "4877a945",
   "metadata": {},
   "outputs": [
    {
     "name": "stdout",
     "output_type": "stream",
     "text": [
      "[[ 4  1 10  9]\n",
      " [ 5  2 11 15]\n",
      " [10 12 12  7]\n",
      " [ 5  1 10 13]]\n",
      "\n",
      "Sum of all rows\n",
      " [24 33 41 29]\n",
      "\n",
      "Sum of all column\n",
      " [24 16 43 44]\n"
     ]
    }
   ],
   "source": [
    "num_array3 = np.random.randint(1, 16, size=(4,4))\n",
    "print(num_array3)\n",
    "\n",
    "#row wise\n",
    "row_sum = num_array3.sum(axis=1)\n",
    "print(\"\\nSum of all rows\\n\",row_sum)\n",
    "\n",
    "# column wise \n",
    "column_sum = num_array3.sum(axis=0)\n",
    "print(\"\\nSum of all column\\n\",column_sum)"
   ]
  },
  {
   "cell_type": "markdown",
   "id": "7420d299",
   "metadata": {},
   "source": [
    "### Exercise 4: Statistical Operations\n",
    "\n",
    "1. Create a NumPy array of shape (5, 5) filled with random integers. Compute the mean, median, standard deviation, and variance of the array."
   ]
  },
  {
   "cell_type": "code",
   "execution_count": 41,
   "id": "0460f5f9",
   "metadata": {},
   "outputs": [
    {
     "name": "stdout",
     "output_type": "stream",
     "text": [
      "[[ 1  4  4 10  4]\n",
      " [10  9  4  2 19]\n",
      " [17  3  4  1 19]\n",
      " [12  5 16 14  3]\n",
      " [15  2 10  7 17]]\n",
      "\n",
      "mean of the array: \n",
      " 8.48\n",
      "\n",
      "median of the array: \n",
      " 7.0\n",
      "\n",
      "standard deviation of the array: \n",
      " 5.953956667628679\n",
      "\n",
      "variance of the array: \n",
      " 35.449600000000004\n"
     ]
    }
   ],
   "source": [
    "num_array4 = np.random.randint(1, 21, size=(5,5))\n",
    "\n",
    "print(num_array4)\n",
    "\n",
    "arr_mean = np.mean(num_array4)\n",
    "print(\"\\nmean of the array: \\n\",arr_mean)\n",
    "\n",
    "arr_median = np.median(num_array4)\n",
    "print(\"\\nmedian of the array: \\n\", arr_median)\n",
    "\n",
    "std_value = np.std(num_array4)\n",
    "print(\"\\nstandard deviation of the array: \\n\", std_value)\n",
    "\n",
    "variance = np.var(num_array4)\n",
    "print(\"\\nvariance of the array: \\n\", variance)\n",
    "\n",
    "\n"
   ]
  },
  {
   "cell_type": "markdown",
   "id": "519d162d",
   "metadata": {},
   "source": [
    "\n",
    "2. Create a NumPy array of shape (3, 3) with values from 1 to 9. Normalize the array (i.e., scale the values to have a mean of 0 and a standard deviation of 1)."
   ]
  },
  {
   "cell_type": "code",
   "execution_count": 45,
   "id": "46d7f850",
   "metadata": {},
   "outputs": [
    {
     "name": "stdout",
     "output_type": "stream",
     "text": [
      "[[2 2 5]\n",
      " [7 2 4]\n",
      " [1 7 5]]\n",
      "Scaled array:\n",
      " [[-0.88618626 -0.88618626  0.52128604]\n",
      " [ 1.4596009  -0.88618626  0.0521286 ]\n",
      " [-1.35534369  1.4596009   0.52128604]]\n",
      "\n",
      "Mean of scaled array:\n",
      " 3.700743415417188e-17\n",
      "\n",
      "Std of scaled array:\n",
      " 1.0\n"
     ]
    }
   ],
   "source": [
    "num_array4 = np.random.randint(1, 10, size=(3,3))\n",
    "\n",
    "print(num_array4)\n",
    "\n",
    "# Compute mean and standard deviation\n",
    "mean = np.mean(num_array4)\n",
    "std = np.std(num_array4)\n",
    "\n",
    "# Standardize the array\n",
    "scaled_arr = (num_array4 - mean) / std\n",
    "\n",
    "print(\"Scaled array:\\n\", scaled_arr)\n",
    "\n",
    "# Verify mean and std\n",
    "print(\"\\nMean of scaled array:\\n\", np.mean(scaled_arr))\n",
    "print(\"\\nStd of scaled array:\\n\", np.std(scaled_arr))"
   ]
  },
  {
   "cell_type": "markdown",
   "id": "3c8a43ef",
   "metadata": {},
   "source": [
    "### Exercise 5: Broadcasting\n",
    "\n",
    "1. Create a NumPy array of shape (3, 3) filled with random integers. Add a 1D array of shape (3,) to each row of the 2D array using broadcasting."
   ]
  },
  {
   "cell_type": "code",
   "execution_count": 53,
   "id": "db9938d0",
   "metadata": {},
   "outputs": [
    {
     "name": "stdout",
     "output_type": "stream",
     "text": [
      "Result:\n",
      " [[12 22 35]\n",
      " [17 22 34]\n",
      " [11 27 35]]\n"
     ]
    }
   ],
   "source": [
    "arr1d = np.array([10, 20, 30])\n",
    "\n",
    "# Add the 1D array to each row of the 2D array\n",
    "result = num_array4 + arr1d\n",
    "\n",
    "print(\"Result:\\n\", result)"
   ]
  },
  {
   "cell_type": "markdown",
   "id": "29af2e64",
   "metadata": {},
   "source": [
    "\n",
    "2. Create a NumPy array of shape (4, 4) filled with random integers. Subtract a 1D array of shape (4,) from each column of the 2D array using broadcasting.\n",
    "\n"
   ]
  },
  {
   "cell_type": "code",
   "execution_count": null,
   "id": "a49e9052",
   "metadata": {},
   "outputs": [
    {
     "name": "stdout",
     "output_type": "stream",
     "text": [
      "[[ 6 11 12 15]\n",
      " [ 8  9  6  6]\n",
      " [ 8  7  9 13]\n",
      " [ 7 14 12  8]]\n",
      "----- Subtract ------\n",
      "[[ 5  9  9 11]\n",
      " [ 7  7  3  2]\n",
      " [ 7  5  6  9]\n",
      " [ 6 12  9  4]]\n"
     ]
    }
   ],
   "source": [
    "num_array5 = np.random.randint(1, 16, size=(4,4))\n",
    "print(num_array5)\n",
    "\n",
    "arr1d = np.array([1, 2, 3, 4])\n",
    "result = num_array5 - arr1d\n",
    "print(\"\\n----- Subtract ------\\n\")\n",
    "print(result)"
   ]
  },
  {
   "cell_type": "markdown",
   "id": "66e2e1df",
   "metadata": {},
   "source": [
    "### Exercise 6: Linear Algebra\n",
    "\n",
    "1. Create a NumPy array of shape (3, 3) representing a matrix. Compute its determinant, inverse, and eigenvalues."
   ]
  },
  {
   "cell_type": "code",
   "execution_count": 66,
   "id": "92b44e92",
   "metadata": {},
   "outputs": [
    {
     "name": "stdout",
     "output_type": "stream",
     "text": [
      "[[20 12 16]\n",
      " [ 5 19  4]\n",
      " [ 9 19  6]]\n",
      "Determinant: -384.0\n",
      "Inverse:\n",
      " [[-0.09895833 -0.60416667  0.66666667]\n",
      " [-0.015625    0.0625      0.        ]\n",
      " [ 0.19791667  0.70833333 -0.83333333]]\n",
      "Eigenvalues: [35.20202889 10.80732895 -1.00935784]\n"
     ]
    }
   ],
   "source": [
    "num_array6 = np.random.randint(1, 21, size=(3, 3))\n",
    "print(num_array6)\n",
    "\n",
    "# Determinant\n",
    "det = np.linalg.det(num_array6)\n",
    "print(\"Determinant:\", det)\n",
    "\n",
    "# Inverse (only if determinant is not 0)\n",
    "if det != 0:\n",
    "    inv = np.linalg.inv(num_array6)\n",
    "    print(\"Inverse:\\n\", inv)\n",
    "else:\n",
    "    print(\"Matrix is singular; no inverse.\")\n",
    "\n",
    "# Eigenvalues\n",
    "eigenvalues = np.linalg.eigvals(num_array6)\n",
    "print(\"Eigenvalues:\", eigenvalues)"
   ]
  },
  {
   "cell_type": "markdown",
   "id": "67a9ff92",
   "metadata": {},
   "source": [
    "\n",
    "2. Create two NumPy arrays of shape (2, 3) and (3, 2). Perform matrix multiplication on these arrays."
   ]
  },
  {
   "cell_type": "code",
   "execution_count": null,
   "id": "0bf098cc",
   "metadata": {},
   "outputs": [
    {
     "name": "stdout",
     "output_type": "stream",
     "text": [
      "[[7 2 7]\n",
      " [3 5 9]] \n",
      " \n",
      " [[18  5]\n",
      " [15  4]\n",
      " [ 8  1]]\n",
      "------ multiplication ------\n",
      "[[212  50]\n",
      " [201  44]]\n"
     ]
    }
   ],
   "source": [
    "arr1 = np.random.randint(1,20, size=(2,3))\n",
    "arr2 = np.random.randint(1,20, size=(3,2))\n",
    "\n",
    "print(arr1, \"\\n \\n\", arr2)\n",
    "print(\"------ multiplication ------\")\n",
    "\n",
    "# arr1 @ arr2 OR np.dot \n",
    "# result = arr1 @ arr2 \n",
    "result = np.dot(arr1, arr2)\n",
    "print(result)"
   ]
  },
  {
   "cell_type": "markdown",
   "id": "b2226a06",
   "metadata": {},
   "source": [
    "### Exercise 7: Advanced Array Manipulation\n",
    "\n",
    "1. Create a NumPy array of shape (3, 3) with values from 1 to 9. Reshape the array to shape (1, 9) and then to shape (9, 1)."
   ]
  },
  {
   "cell_type": "code",
   "execution_count": 73,
   "id": "a7fd905e",
   "metadata": {},
   "outputs": [
    {
     "name": "stdout",
     "output_type": "stream",
     "text": [
      "Original array:\n",
      " [[1 2 3]\n",
      " [4 5 6]\n",
      " [7 8 9]]\n",
      "\n",
      "Reshaped to (1, 9):\n",
      " [[1 2 3 4 5 6 7 8 9]]\n",
      "\n",
      "Reshaped to (9, 1):\n",
      " [[1]\n",
      " [2]\n",
      " [3]\n",
      " [4]\n",
      " [5]\n",
      " [6]\n",
      " [7]\n",
      " [8]\n",
      " [9]]\n"
     ]
    }
   ],
   "source": [
    "arr = np.arange(1, 10).reshape(3, 3)\n",
    "print(\"Original array:\\n\", arr)\n",
    "\n",
    "# Reshape to (1, 9)\n",
    "arr_row = arr.reshape(1, 9)\n",
    "print(\"\\nReshaped to (1, 9):\\n\", arr_row)\n",
    "\n",
    "# Reshape to (9, 1)\n",
    "arr_col = arr.reshape(9, 1)\n",
    "print(\"\\nReshaped to (9, 1):\\n\", arr_col)"
   ]
  },
  {
   "cell_type": "markdown",
   "id": "2b3426bd",
   "metadata": {},
   "source": [
    "\n",
    "2. Create a NumPy array of shape (5, 5) filled with random integers. Flatten the array and then reshape it back to (5, 5)."
   ]
  },
  {
   "cell_type": "code",
   "execution_count": 79,
   "id": "88f708d2",
   "metadata": {},
   "outputs": [
    {
     "name": "stdout",
     "output_type": "stream",
     "text": [
      "Original array (5x5):\n",
      " [[17  9 16 17 20]\n",
      " [12  8 16 19 13]\n",
      " [ 9  8  2 17  5]\n",
      " [17 16  7 19 19]\n",
      " [14  2 15  4  3]]\n",
      "\n",
      "Flattened array:\n",
      " [17  9 16 17 20 12  8 16 19 13  9  8  2 17  5 17 16  7 19 19 14  2 15  4\n",
      "  3]\n",
      "\n",
      "Reshaped array (5x5):\n",
      " [[17  9 16 17 20]\n",
      " [12  8 16 19 13]\n",
      " [ 9  8  2 17  5]\n",
      " [17 16  7 19 19]\n",
      " [14  2 15  4  3]]\n"
     ]
    }
   ],
   "source": [
    "arr = np.random.randint(1, 21, size=(5, 5))\n",
    "print(\"Original array (5x5):\\n\", arr)\n",
    "\n",
    "# Flatten the array to 1D\n",
    "flattened = arr.flatten()\n",
    "print(\"\\nFlattened array:\\n\", flattened)\n",
    "\n",
    "# Reshape back to 5x5\n",
    "reshaped = flattened.reshape(5, 5)\n",
    "print(\"\\nReshaped array (5x5):\\n\", reshaped)"
   ]
  },
  {
   "cell_type": "markdown",
   "id": "c2ac7e8a",
   "metadata": {},
   "source": [
    "### Exercise 8: Fancy Indexing and Boolean Indexing\n",
    "\n",
    "1. Create a NumPy array of shape (5, 5) filled with random integers. Use fancy indexing to extract the elements at the corners of the array."
   ]
  },
  {
   "cell_type": "code",
   "execution_count": null,
   "id": "8784e53b",
   "metadata": {},
   "outputs": [
    {
     "name": "stdout",
     "output_type": "stream",
     "text": [
      "Original array (5x5):\n",
      " [[15  9 11  1  6]\n",
      " [ 3  2  8  5 13]\n",
      " [ 9  4 16 10  6]\n",
      " [ 6 18  5  5 14]\n",
      " [ 7 11  2  4 19]]\n",
      "\n",
      "corner element\n",
      " [15  6  7 19]\n"
     ]
    }
   ],
   "source": [
    "arr = np.random.randint(1, 21, size=(5, 5))\n",
    "print(\"Original array:\\n\", arr)\n",
    "\n",
    "corner_element = arr[[0, 0, -1, -1], [0, -1, 0, -1]]\n",
    "print(\"\\ncorner element\\n\", corner_element)"
   ]
  },
  {
   "cell_type": "markdown",
   "id": "c827923c",
   "metadata": {},
   "source": [
    "\n",
    "2. Create a NumPy array of shape (4, 4) filled with random integers. Use boolean indexing to set all elements greater than 10 to 10."
   ]
  },
  {
   "cell_type": "code",
   "execution_count": 99,
   "id": "d90ff6ae",
   "metadata": {},
   "outputs": [
    {
     "name": "stdout",
     "output_type": "stream",
     "text": [
      "Original array:\n",
      " [[17 19 14  1]\n",
      " [ 4  4 18 15]\n",
      " [ 3  7  2  5]\n",
      " [13  5 20  3]]\n",
      "\n",
      "modified array\n",
      " [[10 10 10  1]\n",
      " [ 4  4 10 10]\n",
      " [ 3  7  2  5]\n",
      " [10  5 10  3]]\n"
     ]
    }
   ],
   "source": [
    "arr = np.random.randint(1, 21, size=(4, 4))\n",
    "print(\"Original array:\\n\", arr)\n",
    "\n",
    "arr[arr>10] = 10\n",
    "\n",
    "print(\"\\nmodified array\\n\",arr)"
   ]
  },
  {
   "cell_type": "markdown",
   "id": "96422ffe",
   "metadata": {},
   "source": [
    "### Exercise 9: Structured Arrays\n",
    "\n",
    "1. Create a structured array with fields 'name' (string), 'age' (integer), and 'weight' (float). Add some data and sort the array by age."
   ]
  },
  {
   "cell_type": "code",
   "execution_count": 102,
   "id": "30cd76ea",
   "metadata": {},
   "outputs": [
    {
     "name": "stdout",
     "output_type": "stream",
     "text": [
      "Orignal Array [('Talha', 25, 72.5) ('Jhon', 36, 65.5) ('Alex', 32, 68.7)\n",
      " ('Tailor', 58, 73.7) ('Julia', 18, 41.4) ('Sam', 33, 60. )\n",
      " ('Sara', 27, 71.2)]\n",
      "\n",
      "Sorted by age:\n",
      " [('Julia', 18, 41.4) ('Talha', 25, 72.5) ('Sara', 27, 71.2)\n",
      " ('Alex', 32, 68.7) ('Sam', 33, 60. ) ('Jhon', 36, 65.5)\n",
      " ('Tailor', 58, 73.7)]\n"
     ]
    }
   ],
   "source": [
    "arr = np.array([\n",
    "    (\"Talha\", 25, 72.5),\n",
    "    (\"Jhon\", 36, 65.5),\n",
    "    (\"Alex\", 32, 68.7),\n",
    "    (\"Tailor\", 58, 73.7),\n",
    "    (\"Julia\", 18, 41.4),\n",
    "    (\"Sam\", 33, 60),\n",
    "    (\"Sara\", 27, 71.2)\n",
    "], dtype=[(\"name\", \"U10\"), (\"age\", \"i4\"), (\"weight\", \"f4\")])\n",
    "print(\"Orignal Array\",arr)\n",
    "\n",
    "\n",
    "sorted_people = np.sort(arr, order=\"age\")\n",
    "print(\"\\nSorted by age:\\n\", sorted_people)"
   ]
  },
  {
   "cell_type": "markdown",
   "id": "b0da3f5e",
   "metadata": {},
   "source": [
    "\n",
    "2. Create a structured array with fields 'x' and 'y' (both integers). Add some data and compute the Euclidean distance between each pair of points."
   ]
  },
  {
   "cell_type": "code",
   "execution_count": 105,
   "id": "abcb033d",
   "metadata": {},
   "outputs": [
    {
     "name": "stdout",
     "output_type": "stream",
     "text": [
      "Points:\n",
      " [(1, 2) (3, 4) (5, 6) (7, 8)]\n",
      "\n",
      "Distance from origin:\n",
      " [ 2.23606798  5.          7.81024968 10.63014581]\n",
      "\n",
      "Pairwise distances:\n",
      " [[0.         2.82842712 5.65685425 8.48528137]\n",
      " [2.82842712 0.         2.82842712 5.65685425]\n",
      " [5.65685425 2.82842712 0.         2.82842712]\n",
      " [8.48528137 5.65685425 2.82842712 0.        ]]\n"
     ]
    }
   ],
   "source": [
    "points = np.array([\n",
    "    (1, 2),\n",
    "    (3, 4),\n",
    "    (5, 6),\n",
    "    (7, 8)\n",
    "], dtype=[(\"x\", \"i4\"), (\"y\", \"i4\")])\n",
    "\n",
    "print(\"Points:\\n\", points)\n",
    "\n",
    "distances_from_origin = np.sqrt(points[\"x\"]**2 + points[\"y\"]**2)\n",
    "print(\"\\nDistance from origin:\\n\", distances_from_origin)\n",
    "\n",
    "# Extract x and y as normal arrays\n",
    "coords = np.column_stack((points[\"x\"], points[\"y\"]))\n",
    "\n",
    "# Compute pairwise distances\n",
    "diffs = coords[:, np.newaxis, :] - coords[np.newaxis, :, :]\n",
    "pairwise_distances = np.sqrt(np.sum(diffs**2, axis=-1))\n",
    "\n",
    "print(\"\\nPairwise distances:\\n\", pairwise_distances)"
   ]
  },
  {
   "cell_type": "markdown",
   "id": "806d2083",
   "metadata": {},
   "source": [
    "### Exercise 10: Masked Arrays\n",
    "\n",
    "1. Create a masked array of shape (4, 4) with random integers and mask the elements greater than 10. Compute the sum of the unmasked elements."
   ]
  },
  {
   "cell_type": "code",
   "execution_count": null,
   "id": "c656ffce",
   "metadata": {},
   "outputs": [
    {
     "name": "stdout",
     "output_type": "stream",
     "text": [
      "Original array:\n",
      " [[20 13 14 19]\n",
      " [ 3  1 14  8]\n",
      " [ 2  1  7 15]\n",
      " [10  7  5  1]]\n",
      "\n",
      "Masked array (elements > 10 hidden):\n",
      " [[-- -- -- --]\n",
      " [3 1 -- 8]\n",
      " [2 1 7 --]\n",
      " [10 7 5 1]]\n",
      "\n",
      "Sum of unmasked elements: 45\n"
     ]
    }
   ],
   "source": [
    "arr = np.random.randint(1, 21, size=(4, 4))\n",
    "print(\"Original array:\\n\", arr)\n",
    "\n",
    "# elements > 10 are masked\n",
    "masked_arr = np.ma.masked_greater(arr, 10)\n",
    "print(\"\\nMasked array (elements > 10 hidden):\\n\", masked_arr)\n",
    "\n",
    "# Compute sum of unmasked elements\n",
    "sum_unmasked = masked_arr.sum()\n",
    "print(\"\\nSum of unmasked elements:\", sum_unmasked)"
   ]
  },
  {
   "cell_type": "markdown",
   "id": "0a0cacd3",
   "metadata": {},
   "source": [
    "2. Create a masked array of shape (3, 3) with random integers and mask the diagonal elements. Replace the masked elements with the mean of the unmasked elements."
   ]
  },
  {
   "cell_type": "code",
   "execution_count": null,
   "id": "0c6fbed9",
   "metadata": {},
   "outputs": [
    {
     "name": "stdout",
     "output_type": "stream",
     "text": [
      "Original array:\n",
      " [[ 8 20  2]\n",
      " [ 8 18  9]\n",
      " [ 4  2 13]]\n",
      "\n",
      "Masked array (diagonal masked):\n",
      " [[-- 20 2]\n",
      " [8 -- 9]\n",
      " [4 2 --]]\n",
      "\n",
      "Mean of unmasked elements: 7.5\n",
      "\n",
      "Final array with diagonal replaced by mean:\n",
      " [[ 7 20  2]\n",
      " [ 8  7  9]\n",
      " [ 4  2  7]]\n"
     ]
    }
   ],
   "source": [
    "arr = np.random.randint(1, 21, size=(3, 3))\n",
    "print(\"Original array:\\n\", arr)\n",
    "\n",
    "# diagonal elements\n",
    "masked_arr = np.ma.masked_array(arr, mask=np.eye(3, dtype=bool))\n",
    "print(\"\\nMasked array (diagonal masked):\\n\", masked_arr)\n",
    "\n",
    "# Compute mean of unmasked elements\n",
    "mean_unmasked = masked_arr.mean()\n",
    "print(\"\\nMean of unmasked elements:\", mean_unmasked)\n",
    "\n",
    "# Replace masked (diagonal) elements with mean\n",
    "filled_arr = masked_arr.filled(mean_unmasked)\n",
    "print(\"\\nFinal array with diagonal replaced by mean:\\n\", filled_arr)"
   ]
  }
 ],
 "metadata": {
  "kernelspec": {
   "display_name": "base",
   "language": "python",
   "name": "python3"
  },
  "language_info": {
   "codemirror_mode": {
    "name": "ipython",
    "version": 3
   },
   "file_extension": ".py",
   "mimetype": "text/x-python",
   "name": "python",
   "nbconvert_exporter": "python",
   "pygments_lexer": "ipython3",
   "version": "3.13.5"
  }
 },
 "nbformat": 4,
 "nbformat_minor": 5
}
