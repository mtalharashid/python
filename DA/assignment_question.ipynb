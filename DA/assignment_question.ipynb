{
 "cells": [
  {
   "cell_type": "markdown",
   "metadata": {},
   "source": [
    "# Python Basics\n",
    "## Topics Covered:\n",
    "- Syntax and Semantics\n",
    "- Variables and Data Types\n",
    "- Basic Operators (Arithmetic, Comparison, Logical)\n"
   ]
  },
  {
   "cell_type": "markdown",
   "metadata": {},
   "source": [
    "## 1. Syntax and Semantics\n",
    "\n",
    "**Question 1:** Write a Python program to print \"Hello, World!\"."
   ]
  },
  {
   "cell_type": "code",
   "execution_count": 1,
   "metadata": {},
   "outputs": [
    {
     "name": "stdout",
     "output_type": "stream",
     "text": [
      "Hello, World!\n"
     ]
    }
   ],
   "source": [
    "print(\"Hello, World!\")"
   ]
  },
  {
   "cell_type": "markdown",
   "metadata": {},
   "source": [
    "**Question 2:** Write a Python program that takes a user input and prints it."
   ]
  },
  {
   "cell_type": "code",
   "execution_count": 3,
   "metadata": {},
   "outputs": [
    {
     "name": "stdout",
     "output_type": "stream",
     "text": [
      "Hi Talha\n"
     ]
    }
   ],
   "source": [
    "name = input(\"Enter your name: \")\n",
    "print(\"Hi\", name)"
   ]
  },
  {
   "cell_type": "markdown",
   "metadata": {},
   "source": [
    "**Question 3:** Write a Python program to check if a number is positive, negative, or zero."
   ]
  },
  {
   "cell_type": "code",
   "execution_count": 10,
   "metadata": {},
   "outputs": [
    {
     "name": "stdout",
     "output_type": "stream",
     "text": [
      "its a Negative Number \n"
     ]
    }
   ],
   "source": [
    "number = input(\"Enter a number find its Positive or Negative: \")\n",
    "if number > '0':\n",
    "    print(\"its a Positive Number \")\n",
    "if number == '0':\n",
    "    print(\"its a Zero \")\n",
    "else:\n",
    "    print(\"its a Negative Number \")"
   ]
  },
  {
   "cell_type": "markdown",
   "metadata": {},
   "source": [
    "**Question 4:** Write a Python program to find the largest of three numbers."
   ]
  },
  {
   "cell_type": "code",
   "execution_count": 23,
   "metadata": {},
   "outputs": [
    {
     "name": "stdout",
     "output_type": "stream",
     "text": [
      "Three largest numbers by reverse [22, 7, 6]\n",
      "Three largest number by loop  [22, 7, 6]\n"
     ]
    }
   ],
   "source": [
    "number_list = [1,2,4,5,7,3,22, 6]\n",
    "max3 = []\n",
    "max4 = []\n",
    "\n",
    "# First method to by sorting \n",
    "max4 = sorted(number_list, reverse=True)\n",
    "print(\"Three largest numbers by reverse\", max4[:3])\n",
    "\n",
    "## second method by using for loop\n",
    "for i in range(3):\n",
    "    max3.append(max(number_list))\n",
    "    number_list.remove(max(number_list))\n",
    "print(\"Three largest number by loop \",max3)"
   ]
  },
  {
   "cell_type": "markdown",
   "metadata": {},
   "source": [
    "**Question 5:** Write a Python program to calculate the factorial of a number."
   ]
  },
  {
   "cell_type": "code",
   "execution_count": 35,
   "metadata": {},
   "outputs": [
    {
     "name": "stdout",
     "output_type": "stream",
     "text": [
      "120\n"
     ]
    }
   ],
   "source": [
    "fact = 5\n",
    "res = 1\n",
    "for i in range(2, fact + 1):\n",
    "    res *= i\n",
    "print(res)\n",
    "    "
   ]
  },
  {
   "cell_type": "markdown",
   "metadata": {},
   "source": [
    "## 2. Variables and Data Types\n",
    "\n",
    "**Question 6:** Create variables of different data types: integer, float, string, and boolean. Print their values and types."
   ]
  },
  {
   "cell_type": "code",
   "execution_count": 40,
   "metadata": {},
   "outputs": [
    {
     "name": "stdout",
     "output_type": "stream",
     "text": [
      "<class 'int'>\n",
      "<class 'str'>\n",
      "<class 'float'>\n",
      "<class 'bool'>\n"
     ]
    }
   ],
   "source": [
    "number_value = 20\n",
    "string_value = str(\"Hello, World!\")\n",
    "float_value = 3.12\n",
    "boolean_value = True\n",
    "\n",
    "print(type(number_value))\n",
    "print(type(string_value))\n",
    "print(type(float_value))\n",
    "print(type(boolean_value))"
   ]
  },
  {
   "cell_type": "markdown",
   "metadata": {},
   "source": [
    "**Question 7:** Write a Python program to swap the values of two variables."
   ]
  },
  {
   "cell_type": "code",
   "execution_count": 49,
   "metadata": {},
   "outputs": [
    {
     "name": "stdout",
     "output_type": "stream",
     "text": [
      "Value of a is: 10 Value of b is: 5\n",
      "Value of i is: 23 Value of j is: 8\n"
     ]
    }
   ],
   "source": [
    "a = 5\n",
    "b = 10\n",
    "b = b - a\n",
    "a  = a + b\n",
    "print(\"Value of a is:\", a , \"Value of b is:\", b)\n",
    "\n",
    "# here is another way by using third variable \n",
    "i = 8\n",
    "j = 23\n",
    "\n",
    "temp = i\n",
    "i = j\n",
    "j = temp\n",
    "\n",
    "print(\"Value of i is:\", i , \"Value of j is:\", j)\n",
    "\n"
   ]
  },
  {
   "cell_type": "markdown",
   "metadata": {},
   "source": [
    "**Question 8:** Write a Python program to convert Celsius to Fahrenheit."
   ]
  },
  {
   "cell_type": "code",
   "execution_count": 50,
   "metadata": {},
   "outputs": [
    {
     "name": "stdout",
     "output_type": "stream",
     "text": [
      "Temp in fahrenheit is: 86.0\n"
     ]
    }
   ],
   "source": [
    "temp_celsius = 30\n",
    "fahrenheit = (9/5 * temp_celsius) + 32\n",
    "print(\"Temp in fahrenheit is:\", fahrenheit)"
   ]
  },
  {
   "cell_type": "markdown",
   "metadata": {},
   "source": [
    "**Question 9:** Write a Python program to concatenate two strings."
   ]
  },
  {
   "cell_type": "code",
   "execution_count": 53,
   "metadata": {},
   "outputs": [
    {
     "name": "stdout",
     "output_type": "stream",
     "text": [
      "Talha Rashid\n"
     ]
    }
   ],
   "source": [
    "str_1 = \"Talha\"\n",
    "str_2 = \"Rashid\"\n",
    "\n",
    "print(str_1+' '+str_2)"
   ]
  },
  {
   "cell_type": "markdown",
   "metadata": {},
   "source": [
    "**Question 10:** Write a Python program to check if a variable is of a specific data type."
   ]
  },
  {
   "cell_type": "code",
   "execution_count": 59,
   "metadata": {},
   "outputs": [
    {
     "name": "stdout",
     "output_type": "stream",
     "text": [
      "your Data type is right <class 'int'>\n"
     ]
    }
   ],
   "source": [
    "data = int(input(\"Enter an integer value: \"))\n",
    "if type(data) == int:\n",
    "    print(\"your Data type is right\", type(data))\n",
    "else: \n",
    "    print(\"your Data type is not right\", type(data))"
   ]
  },
  {
   "cell_type": "markdown",
   "metadata": {},
   "source": [
    "## 3. Basic Operators (Arithmetic, Comparison, Logical)\n",
    "\n",
    "**Question 11:** Write a Python program to perform arithmetic operations: addition, subtraction, multiplication, and division."
   ]
  },
  {
   "cell_type": "code",
   "execution_count": 60,
   "metadata": {},
   "outputs": [
    {
     "name": "stdout",
     "output_type": "stream",
     "text": [
      "Sum of two number is: 12\n",
      "Sub of two number is: -8\n",
      "multiplication of two number is: 20\n",
      "division of two number is: 0.2\n"
     ]
    }
   ],
   "source": [
    "value_1 = 2\n",
    "value_2 = 10\n",
    "\n",
    "print(\"Sum of two number is:\", value_1 + value_2)\n",
    "print(\"Sub of two number is:\", value_1 - value_2)\n",
    "print(\"multiplication of two number is:\", value_1 * value_2)\n",
    "print(\"division of two number is:\", value_1 / value_2)"
   ]
  },
  {
   "cell_type": "markdown",
   "metadata": {},
   "source": [
    "**Question 12:** Write a Python program to demonstrate comparison operators: equal to, not equal to, greater than, less than."
   ]
  },
  {
   "cell_type": "code",
   "execution_count": 68,
   "metadata": {},
   "outputs": [
    {
     "name": "stdout",
     "output_type": "stream",
     "text": [
      "Value 1 is smaller then value 2\n"
     ]
    }
   ],
   "source": [
    "value_1 = 5\n",
    "value_2 = 12\n",
    "\n",
    "if value_1 > value_2:\n",
    "    print(\"Value 1 is greater then value 2\")\n",
    "elif value_1 < value_2:\n",
    "    print(\"Value 1 is smaller then value 2\")\n",
    "elif value_1 == value_2:\n",
    "    print(\"Value 1 is Equal to value 2\")\n",
    "elif value_1 != value_2:\n",
    "    print(\"Value 1 is not Equal to value 2\")\n",
    "else:\n",
    "    print(\"Value 1 is greater then value 2\")"
   ]
  },
  {
   "cell_type": "markdown",
   "metadata": {},
   "source": [
    "**Question 13:** Write a Python program to demonstrate logical operators: and, or, not."
   ]
  },
  {
   "cell_type": "code",
   "execution_count": 2,
   "metadata": {},
   "outputs": [
    {
     "name": "stdout",
     "output_type": "stream",
     "text": [
      "if A and C are both true\n",
      "if one of them is false\n",
      "if b is false \n"
     ]
    }
   ],
   "source": [
    "a, b, c = True, False, True\n",
    "\n",
    "if a and c:\n",
    "    print(\"if A and C are both true\")\n",
    "if a or b:\n",
    "    print(\"if one of them is false\")\n",
    "if not b:\n",
    "    print(\"if b is false \")    "
   ]
  },
  {
   "cell_type": "markdown",
   "metadata": {},
   "source": [
    "**Question 14:** Write a Python program to calculate the square of a number."
   ]
  },
  {
   "cell_type": "code",
   "execution_count": 4,
   "metadata": {},
   "outputs": [
    {
     "name": "stdout",
     "output_type": "stream",
     "text": [
      "64\n"
     ]
    }
   ],
   "source": [
    "number = 8\n",
    "square = number ** 2\n",
    "print(square)"
   ]
  },
  {
   "cell_type": "markdown",
   "metadata": {},
   "source": [
    "**Question 15:** Write a Python program to check if a number is even or odd."
   ]
  },
  {
   "cell_type": "code",
   "execution_count": 8,
   "metadata": {},
   "outputs": [
    {
     "name": "stdout",
     "output_type": "stream",
     "text": [
      "number is odd\n"
     ]
    }
   ],
   "source": [
    "number = 3\n",
    "if number % 2 == 0:\n",
    "    print(\"Number is even\")\n",
    "else:\n",
    "    print(\"number is odd\")"
   ]
  },
  {
   "cell_type": "markdown",
   "metadata": {},
   "source": [
    "**Question 16:** Write a Python program to find the sum of the first n natural numbers."
   ]
  },
  {
   "cell_type": "code",
   "execution_count": 16,
   "metadata": {},
   "outputs": [
    {
     "name": "stdout",
     "output_type": "stream",
     "text": [
      "The sum of the first 10 natural numbers (using for loop) is: 55\n"
     ]
    }
   ],
   "source": [
    "def sum_of_natural_numbers_for_loop(n):\n",
    "    if n < 0:\n",
    "        return \"Input must be a non-negative integer.\"\n",
    "    total_sum = 0\n",
    "    for i in range(1, n + 1):\n",
    "        total_sum += i\n",
    "    return total_sum\n",
    "\n",
    "num = 10\n",
    "result = sum_of_natural_numbers_for_loop(num)\n",
    "print(f\"The sum of the first {num} natural numbers (using for loop) is: {result}\")"
   ]
  },
  {
   "cell_type": "markdown",
   "metadata": {},
   "source": [
    "**Question 17:** Write a Python program to check if a year is a leap year."
   ]
  },
  {
   "cell_type": "code",
   "execution_count": 32,
   "metadata": {},
   "outputs": [
    {
     "name": "stdout",
     "output_type": "stream",
     "text": [
      "True\n"
     ]
    }
   ],
   "source": [
    "find_leap = 2024\n",
    "\n",
    "if (find_leap % 400 == 0) or (find_leap % 4 == 0 and find_leap % 100 != 0):\n",
    "    print(\"True\")   # is a leap year\n",
    "else:\n",
    "    print(\"False\")  # Not a leap year"
   ]
  },
  {
   "cell_type": "markdown",
   "metadata": {},
   "source": [
    "**Question 18:** Write a Python program to reverse a string."
   ]
  },
  {
   "cell_type": "code",
   "execution_count": 35,
   "metadata": {},
   "outputs": [
    {
     "name": "stdout",
     "output_type": "stream",
     "text": [
      "Reverse Python string: dlroW olleH\n"
     ]
    }
   ],
   "source": [
    "py_str = \"Hello World\"\n",
    "\n",
    "print(\"Reverse Python string:\", py_str[::-1] )"
   ]
  },
  {
   "cell_type": "markdown",
   "metadata": {},
   "source": [
    "**Question 19:** Write a Python program to check if a string is a palindrome."
   ]
  },
  {
   "cell_type": "code",
   "execution_count": 39,
   "metadata": {},
   "outputs": [
    {
     "name": "stdout",
     "output_type": "stream",
     "text": [
      "its a palindrome string \n"
     ]
    }
   ],
   "source": [
    "str_palindrome = \"Radar\" #level #deed #noon\n",
    "reverse_str = str_palindrome[::-1]\n",
    "\n",
    "if str_palindrome == reverse_str:\n",
    "    print(\"its a palindrome string \")\n",
    "else:\n",
    "    print(\"not a palindrome string \")\n",
    "    "
   ]
  },
  {
   "cell_type": "markdown",
   "metadata": {},
   "source": [
    "**Question 20:** Write a Python program to sort a list of numbers in ascending order."
   ]
  },
  {
   "cell_type": "code",
   "execution_count": 43,
   "metadata": {},
   "outputs": [
    {
     "name": "stdout",
     "output_type": "stream",
     "text": [
      "after sorting: [1, 2, 3, 4, 5, 8, 9]\n"
     ]
    }
   ],
   "source": [
    "number = [1,8,4,5,3,9,2,]\n",
    "number.sort()\n",
    "print(\"after sorting:\", number)"
   ]
  }
 ],
 "metadata": {
  "kernelspec": {
   "display_name": "base",
   "language": "python",
   "name": "python3"
  },
  "language_info": {
   "codemirror_mode": {
    "name": "ipython",
    "version": 3
   },
   "file_extension": ".py",
   "mimetype": "text/x-python",
   "name": "python",
   "nbconvert_exporter": "python",
   "pygments_lexer": "ipython3",
   "version": "3.13.5"
  }
 },
 "nbformat": 4,
 "nbformat_minor": 4
}
