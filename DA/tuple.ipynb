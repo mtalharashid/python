{
 "cells": [
  {
   "cell_type": "markdown",
   "id": "6cade624",
   "metadata": {},
   "source": [
    "## Data Structures - Tuple"
   ]
  },
  {
   "cell_type": "markdown",
   "id": "45dc9705",
   "metadata": {},
   "source": [
    "#### 1: Create a tuple with the first 10 positive integers. Print the tuple."
   ]
  },
  {
   "cell_type": "code",
   "execution_count": 3,
   "id": "fc2d34e1",
   "metadata": {},
   "outputs": [
    {
     "name": "stdout",
     "output_type": "stream",
     "text": [
      "(1, 2, 3, 4, 5, 6, 7, 8, 9, 10)\n",
      "<class 'tuple'>\n"
     ]
    }
   ],
   "source": [
    "myTuple = tuple(range(1, 11))\n",
    "print(myTuple)\n",
    "print(type(myTuple))"
   ]
  },
  {
   "cell_type": "markdown",
   "id": "c5b6169e",
   "metadata": {},
   "source": [
    "#### 2: Print the first, middle, and last elements of the myTuple"
   ]
  },
  {
   "cell_type": "code",
   "execution_count": null,
   "id": "b9fb7567",
   "metadata": {},
   "outputs": [
    {
     "name": "stdout",
     "output_type": "stream",
     "text": [
      "first element is: 1 Middle Element is 6 and the last element is 10\n"
     ]
    }
   ],
   "source": [
    "print(f\"first element is: {myTuple[0]} Middle Element is {myTuple[len(myTuple)//2]} and the last element is {myTuple[-1]}\")"
   ]
  },
  {
   "cell_type": "markdown",
   "id": "882f4626",
   "metadata": {},
   "source": [
    "### 3: Tuple Slicing\n",
    "#### Print the first three elements, the last three elements, and the elements from index 2 to 5 of the tuple"
   ]
  },
  {
   "cell_type": "code",
   "execution_count": null,
   "id": "eea2e767",
   "metadata": {},
   "outputs": [
    {
     "name": "stdout",
     "output_type": "stream",
     "text": [
      "First 3 Element (1, 2, 3) last 3 element (8, 9, 10) and element from index 2 - 5 (3, 4, 5)\n"
     ]
    }
   ],
   "source": [
    "print(f\"First 3 Element {myTuple[:3]} last 3 element {myTuple[-3:]} and element from index 2 to 5 {myTuple[2:5]}\")"
   ]
  },
  {
   "cell_type": "markdown",
   "id": "60b5819e",
   "metadata": {},
   "source": [
    "### 4: Nested Tuples\n",
    "#### Create a nested tuple representing a 3x3 matrix and print the matrix. Access and print the element at the second row and third column."
   ]
  },
  {
   "cell_type": "code",
   "execution_count": 13,
   "id": "4a47520e",
   "metadata": {},
   "outputs": [
    {
     "name": "stdout",
     "output_type": "stream",
     "text": [
      "((1, 2, 3), (3, 4, 5), (6, 7, 8))\n",
      "5\n"
     ]
    }
   ],
   "source": [
    "nested_tuple = (\n",
    "    (1,2,3),\n",
    "    (3,4,5),\n",
    "    (6,7,8),\n",
    ")\n",
    "\n",
    "print(nested_tuple)\n",
    "# Print the element from 2nd row and the 3rd element\n",
    "print(nested_tuple[1][2])"
   ]
  },
  {
   "cell_type": "markdown",
   "id": "637a9584",
   "metadata": {},
   "source": [
    "### 5: Tuple Concatenation\n",
    "#### Concatenate two tuples: (1, 2, 3) and (4, 5, 6). Print the resulting tuple."
   ]
  },
  {
   "cell_type": "code",
   "execution_count": 14,
   "id": "8ce2c193",
   "metadata": {},
   "outputs": [
    {
     "name": "stdout",
     "output_type": "stream",
     "text": [
      "(1, 2, 3, 4, 5, 6)\n"
     ]
    }
   ],
   "source": [
    "tuple1 = (1,2,3)\n",
    "tuple2 = (4,5,6)\n",
    "\n",
    "print(tuple1 + tuple2)"
   ]
  },
  {
   "cell_type": "markdown",
   "id": "f8373996",
   "metadata": {},
   "source": [
    "### 6: Tuple Methods\n",
    "\n",
    "#### Create a tuple with duplicate elements and count the occurrences of an element. Find the index of the first occurrence of an element in the tuple."
   ]
  },
  {
   "cell_type": "code",
   "execution_count": 18,
   "id": "00dec9ec",
   "metadata": {},
   "outputs": [
    {
     "name": "stdout",
     "output_type": "stream",
     "text": [
      "{1: 2, 2: 4, 3: 3, 4: 1, 8: 1, 5: 1, 7: 3}\n"
     ]
    }
   ],
   "source": [
    "numbers = (1,1,2,2,2,3,3,4,2,8,5,7,7,7,3)\n",
    "count = {}\n",
    "for number in numbers:\n",
    "    if number in count:\n",
    "        count[number] += 1\n",
    "    else:\n",
    "        count[number] = 1\n",
    "print(count)"
   ]
  },
  {
   "cell_type": "markdown",
   "id": "d86efdcc",
   "metadata": {},
   "source": [
    "### 7: Unpacking Tuples\n",
    "\n",
    "#### Create a tuple with 5 elements and unpack it into 5 variables. Print the variables."
   ]
  },
  {
   "cell_type": "code",
   "execution_count": 20,
   "id": "49e505af",
   "metadata": {},
   "outputs": [
    {
     "name": "stdout",
     "output_type": "stream",
     "text": [
      "a = 10\n",
      "b = 20\n",
      "c = 30\n",
      "d = 40\n",
      "e = 50\n"
     ]
    }
   ],
   "source": [
    "my_tuple = (10, 20, 30, 40, 50)\n",
    "\n",
    "a, b, c, d, e = my_tuple # unpack variable\n",
    "\n",
    "print(\"a =\", a)\n",
    "print(\"b =\", b)\n",
    "print(\"c =\", c)\n",
    "print(\"d =\", d)\n",
    "print(\"e =\", e)"
   ]
  },
  {
   "cell_type": "markdown",
   "id": "d338a10d",
   "metadata": {},
   "source": [
    "### 8: Tuple Conversion\n",
    "\n",
    "#### Convert a list of the first 5 positive integers to a tuple. Print the tuple."
   ]
  },
  {
   "cell_type": "code",
   "execution_count": 23,
   "id": "4f6a7b30",
   "metadata": {},
   "outputs": [
    {
     "name": "stdout",
     "output_type": "stream",
     "text": [
      "(1, 2, 3, 4, 5, 6)\n",
      "<class 'tuple'>\n"
     ]
    }
   ],
   "source": [
    "my_list = [1,2,3,4,5,6]\n",
    "convert = tuple(my_list)\n",
    "print(convert)\n",
    "print(type(convert))"
   ]
  },
  {
   "cell_type": "markdown",
   "id": "3cf68085",
   "metadata": {},
   "source": [
    "### 9: Tuple of Tuples\n",
    "\n",
    "#### Create a tuple containing 3 tuples, each with 3 elements. Print the tuple of tuples."
   ]
  },
  {
   "cell_type": "code",
   "execution_count": 25,
   "id": "e673860c",
   "metadata": {},
   "outputs": [
    {
     "name": "stdout",
     "output_type": "stream",
     "text": [
      "((1, 2, 3), (4, 5, 6), (7, 8, 9))\n"
     ]
    }
   ],
   "source": [
    "tuple_of_tuples = (\n",
    "    (1, 2, 3),\n",
    "    (4, 5, 6),\n",
    "    (7, 8, 9)\n",
    ")\n",
    "\n",
    "# tuple of tuples\n",
    "print(tuple_of_tuples)"
   ]
  },
  {
   "cell_type": "markdown",
   "id": "e4fd2c8d",
   "metadata": {},
   "source": [
    "### 10: Tuple and List\n",
    "\n",
    "#### Create a tuple with the first 5 positive integers. Convert it to a list, append the number 6, and convert it back to a tuple. Print the resulting tuple."
   ]
  },
  {
   "cell_type": "code",
   "execution_count": 32,
   "id": "94cbb889",
   "metadata": {},
   "outputs": [
    {
     "name": "stdout",
     "output_type": "stream",
     "text": [
      "(1, 2, 3, 4, 5) and type is <class 'tuple'>\n",
      "[1, 2, 3, 4, 5, 6] and type is <class 'list'>\n",
      "(1, 2, 3, 4, 5, 6) and type is <class 'tuple'>\n"
     ]
    }
   ],
   "source": [
    "tuple1 = (1,2,3,4,5)\n",
    "print(f\"{tuple1} and type is {type(tuple1)}\")\n",
    "\n",
    "## convert \n",
    "list1 = list(tuple1)\n",
    "list1.append(6)\n",
    "\n",
    "print(f\"{list1} and type is {type(list1)}\")\n",
    "\n",
    "## again back to tuple\n",
    "tuple2 = tuple(list1)\n",
    "print(f\"{tuple2} and type is {type(tuple2)}\")"
   ]
  },
  {
   "cell_type": "markdown",
   "id": "026e6736",
   "metadata": {},
   "source": [
    "### 11: Tuple and String\n",
    "#### Create a tuple with the characters of a string. Join the tuple elements into a single string. Print the string."
   ]
  },
  {
   "cell_type": "code",
   "execution_count": 35,
   "id": "3ad67a3e",
   "metadata": {},
   "outputs": [
    {
     "name": "stdout",
     "output_type": "stream",
     "text": [
      "helloworld\n"
     ]
    }
   ],
   "source": [
    "str_tuple = (\"hello\")\n",
    "my_str = \"world\"\n",
    "\n",
    "result = str_tuple + my_str\n",
    "print(result)"
   ]
  },
  {
   "cell_type": "markdown",
   "id": "137796eb",
   "metadata": {},
   "source": [
    "### 12: Tuple and Dictionary\n",
    "\n",
    "#### Create a dictionary with tuple keys and integer values. Print the dictionary."
   ]
  },
  {
   "cell_type": "code",
   "execution_count": 36,
   "id": "c9e51045",
   "metadata": {},
   "outputs": [
    {
     "name": "stdout",
     "output_type": "stream",
     "text": [
      "{(1, 2): 10, (3, 4): 20, (5, 6): 30}\n"
     ]
    }
   ],
   "source": [
    "my_dict = {\n",
    "    (1,2) : 10,\n",
    "    (3,4) : 20,\n",
    "    (5,6) : 30,\n",
    "}\n",
    "\n",
    "print(my_dict)"
   ]
  },
  {
   "cell_type": "markdown",
   "id": "35c5633f",
   "metadata": {},
   "source": [
    "### 13: Nested Tuple Iteration\n",
    "#### Create a nested tuple and iterate over the elements, printing each element."
   ]
  },
  {
   "cell_type": "code",
   "execution_count": 37,
   "id": "eb79fe17",
   "metadata": {},
   "outputs": [
    {
     "name": "stdout",
     "output_type": "stream",
     "text": [
      "1\n",
      "2\n",
      "3\n",
      "4\n",
      "5\n",
      "6\n",
      "7\n",
      "8\n"
     ]
    }
   ],
   "source": [
    "nested_tuple1 = (\n",
    "    (1,2,3,4),\n",
    "    (5,6,7,8),\n",
    ")\n",
    "\n",
    "for nested in nested_tuple1:\n",
    "    for i in nested:\n",
    "        print(i)"
   ]
  },
  {
   "cell_type": "markdown",
   "id": "eea72d27",
   "metadata": {},
   "source": [
    "### 14: Tuple and Set\n",
    "\n",
    "#### Create a tuple with duplicate elements. Convert it to a set to remove duplicates and print the resulting set."
   ]
  },
  {
   "cell_type": "code",
   "execution_count": 40,
   "id": "b3dfc262",
   "metadata": {},
   "outputs": [
    {
     "name": "stdout",
     "output_type": "stream",
     "text": [
      "{1, 2, 3, 4, 5, 6}\n",
      "Actual Tuple (1, 2, 3, 4, 5, 6, 6, 2) after using set (1, 2, 3, 4, 5, 6)\n"
     ]
    }
   ],
   "source": [
    "duplicate = (1,2,3,4,5,6,6,2)\n",
    "\n",
    "# covert to Set \n",
    "convert_set = set(duplicate)\n",
    "\n",
    "print(convert_set)\n",
    "\n",
    "# now back to tuple\n",
    "result = tuple(convert_set)\n",
    "print(f\"Actual Tuple {duplicate} after using set {result}\")\n"
   ]
  },
  {
   "cell_type": "markdown",
   "id": "a1907b7a",
   "metadata": {},
   "source": [
    "### 15: Tuple Functions\n",
    "\n",
    "#### Write functions that take a tuple and return the minimum, maximum, and sum of the elements. Print the results for a sample tuple."
   ]
  },
  {
   "cell_type": "code",
   "execution_count": 48,
   "id": "27cfe2cd",
   "metadata": {},
   "outputs": [
    {
     "name": "stdout",
     "output_type": "stream",
     "text": [
      "maximum value:  6 \n",
      "minimum value: 1 \n",
      "The sum is : 21\n"
     ]
    }
   ],
   "source": [
    "def find_tuple(num):\n",
    "    print(f\"maximum value:  {max(num)} \\nminimum value: {min(num)} \\nThe sum is : {sum(num)}\")\n",
    "\n",
    "\n",
    "number = (1,2,3,4,5,6)\n",
    "find_tuple(number)"
   ]
  }
 ],
 "metadata": {
  "kernelspec": {
   "display_name": "base",
   "language": "python",
   "name": "python3"
  },
  "language_info": {
   "codemirror_mode": {
    "name": "ipython",
    "version": 3
   },
   "file_extension": ".py",
   "mimetype": "text/x-python",
   "name": "python",
   "nbconvert_exporter": "python",
   "pygments_lexer": "ipython3",
   "version": "3.13.5"
  }
 },
 "nbformat": 4,
 "nbformat_minor": 5
}
