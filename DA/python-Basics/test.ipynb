{
 "cells": [
  {
   "cell_type": "code",
   "execution_count": 1,
   "id": "84cc8757",
   "metadata": {},
   "outputs": [
    {
     "name": "stdout",
     "output_type": "stream",
     "text": [
      "2\n"
     ]
    }
   ],
   "source": [
    "print(1+1)"
   ]
  },
  {
   "cell_type": "markdown",
   "id": "911420a7",
   "metadata": {},
   "source": [
    "Python is case sensitive \n",
    "\n",
    "Line Continuation: Python allows line continuation using a backslash (\\)\n",
    "\n",
    "Multiple Statements on a Single Line: Python allows multiple statements on a single line using a semicolon (;)\n",
    "Eg: x = 5; y = 10; z = x + y"
   ]
  },
  {
   "cell_type": "markdown",
   "id": "43a22f9b",
   "metadata": {},
   "source": [
    "Python is Dynamically typed \n",
    "Variable Determine at runtime\n",
    "\n",
    "Loop control Statements: Break, Continue , pass"
   ]
  }
 ],
 "metadata": {
  "kernelspec": {
   "display_name": "base",
   "language": "python",
   "name": "python3"
  },
  "language_info": {
   "codemirror_mode": {
    "name": "ipython",
    "version": 3
   },
   "file_extension": ".py",
   "mimetype": "text/x-python",
   "name": "python",
   "nbconvert_exporter": "python",
   "pygments_lexer": "ipython3",
   "version": "3.13.5"
  }
 },
 "nbformat": 4,
 "nbformat_minor": 5
}
