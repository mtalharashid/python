{
 "cells": [
  {
   "cell_type": "code",
   "execution_count": 1,
   "id": "84cc8757",
   "metadata": {},
   "outputs": [
    {
     "name": "stdout",
     "output_type": "stream",
     "text": [
      "2\n"
     ]
    }
   ],
   "source": [
    "print(1+1)"
   ]
  },
  {
   "cell_type": "markdown",
   "id": "911420a7",
   "metadata": {},
   "source": [
    "Python is case sensitive \n",
    "\n",
    "Line Continuation: Python allows line continuation using a backslash (\\)\n",
    "\n",
    "Multiple Statements on a Single Line: Python allows multiple statements on a single line using a semicolon (;)\n",
    "Eg: x = 5; y = 10; z = x + y"
   ]
  },
  {
   "cell_type": "markdown",
   "id": "43a22f9b",
   "metadata": {},
   "source": [
    "Python is Dynamically typed \n",
    "Variable Determine at runtime\n",
    "\n",
    "Loop control Statements: Break, Continue , pass"
   ]
  },
  {
   "cell_type": "code",
   "execution_count": 1,
   "id": "7abebbb6",
   "metadata": {},
   "outputs": [
    {
     "name": "stdout",
     "output_type": "stream",
     "text": [
      "[[1, 'a'], [1, 'b'], [1, 'c'], [1, 'd'], [1, 'e'], [2, 'a'], [2, 'b'], [2, 'c'], [2, 'd'], [2, 'e'], [3, 'a'], [3, 'b'], [3, 'c'], [3, 'd'], [3, 'e'], [4, 'a'], [4, 'b'], [4, 'c'], [4, 'd'], [4, 'e'], [5, 'a'], [5, 'b'], [5, 'c'], [5, 'd'], [5, 'e']]\n"
     ]
    }
   ],
   "source": [
    "# Nested List Comprehension \n",
    "\n",
    "lst1 = [1,2,3,4,5]\n",
    "lst2 = ['a','b','c','d','e']\n",
    "\n",
    "pair = [[i,j] for i in lst1 for j in lst2] # nested list for loop\n",
    "\n",
    "print(pair)"
   ]
  },
  {
   "cell_type": "code",
   "execution_count": 2,
   "id": "7f24afc2",
   "metadata": {},
   "outputs": [
    {
     "name": "stdout",
     "output_type": "stream",
     "text": [
      "[5, 5, 6, 4, 13]\n"
     ]
    }
   ],
   "source": [
    "# list comprehension with function calls\n",
    "words = ['hello', 'world', 'Python', 'list', 'comprehension']\n",
    "lengths = [len(word) for word in words]\n",
    "print(lengths)  # Output: [5, 5, 6, 4, 13]"
   ]
  }
 ],
 "metadata": {
  "kernelspec": {
   "display_name": "base",
   "language": "python",
   "name": "python3"
  },
  "language_info": {
   "codemirror_mode": {
    "name": "ipython",
    "version": 3
   },
   "file_extension": ".py",
   "mimetype": "text/x-python",
   "name": "python",
   "nbconvert_exporter": "python",
   "pygments_lexer": "ipython3",
   "version": "3.13.5"
  }
 },
 "nbformat": 4,
 "nbformat_minor": 5
}
