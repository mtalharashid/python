{
 "cells": [
  {
   "cell_type": "markdown",
   "metadata": {},
   "source": [
    "## Sets"
   ]
  },
  {
   "cell_type": "markdown",
   "id": "8a30db06",
   "metadata": {},
   "source": [
    "### Exercise 1: Creating and Accessing Sets\n",
    "\n",
    "Create a set with the first 10 positive integers. Print the set."
   ]
  },
  {
   "cell_type": "code",
   "execution_count": null,
   "id": "04430e52",
   "metadata": {},
   "outputs": [
    {
     "name": "stdout",
     "output_type": "stream",
     "text": [
      "{1, 2, 3, 4, 5, 6, 7, 8, 9, 10}\n"
     ]
    }
   ],
   "source": [
    "my_set = set(range(1, 11))\n",
    "print(my_set)"
   ]
  },
  {
   "cell_type": "markdown",
   "id": "65aaecd5",
   "metadata": {},
   "source": [
    "### Exercise 2: Adding and Removing Elements\n",
    "\n",
    "Add the number 11 to the set created in Exercise 1. Then remove the number 1 from the set. Print the modified set."
   ]
  },
  {
   "cell_type": "code",
   "execution_count": null,
   "id": "24d7938f",
   "metadata": {},
   "outputs": [
    {
     "name": "stdout",
     "output_type": "stream",
     "text": [
      "{2, 3, 4, 5, 6, 7, 8, 9, 10, 11}\n"
     ]
    }
   ],
   "source": [
    "my_set.add(11)\n",
    "my_set.discard(1) # no error raised and (remove) function raise error if no value found \n",
    "print(my_set)"
   ]
  },
  {
   "cell_type": "markdown",
   "id": "bb741f34",
   "metadata": {},
   "source": [
    "### Exercise 3: Set Operations\n",
    "\n",
    "Create two sets: one with the first 5 positive integers and another with the first 5 even integers. Perform and print the results of union, intersection, difference, and symmetric difference operations on these sets."
   ]
  },
  {
   "cell_type": "code",
   "execution_count": 25,
   "id": "678fc5f7",
   "metadata": {},
   "outputs": [
    {
     "name": "stdout",
     "output_type": "stream",
     "text": [
      "Set 1: {1, 2, 3, 4, 5} \n",
      "Set2: {2, 4, 6, 8, 10} \n",
      "\n",
      "Union of two sets {1, 2, 3, 4, 5, 6, 8, 10} \n",
      "\n",
      "Intersection of two sets {2, 4} \n",
      "\n",
      "Difference of two sets {1, 3, 5} \n",
      "\n",
      "Symmetric difference of two sets {1, 3, 5, 6, 8, 10} \n",
      "\n"
     ]
    }
   ],
   "source": [
    "set1 = set(range(1, 6))\n",
    "set2 = set(range(2, 11, 2))\n",
    "\n",
    "print(f\"Set 1: {set1} \\nSet2: {set2} \\n\")\n",
    "\n",
    "result_union = set1.union(set2)\n",
    "print(f\"Union of two sets {result_union} \\n\")\n",
    "\n",
    "result_intersection = set1.intersection(set2)\n",
    "print(f\"Intersection of two sets {result_intersection} \\n\")\n",
    "\n",
    "result_difference = set1.difference(set2)\n",
    "print(f\"Difference of two sets {result_difference} \\n\")\n",
    "\n",
    "sym_difference = set1 ^ set2\n",
    "print(f\"Symmetric difference of two sets {sym_difference} \\n\")"
   ]
  },
  {
   "cell_type": "markdown",
   "id": "23afeca7",
   "metadata": {},
   "source": [
    "### Exercise 4: Set Comprehensions\n",
    "\n",
    "Create a new set containing the squares of the first 10 positive integers using a set comprehension. Print the new set."
   ]
  },
  {
   "cell_type": "code",
   "execution_count": 28,
   "id": "b8aa6b41",
   "metadata": {},
   "outputs": [
    {
     "name": "stdout",
     "output_type": "stream",
     "text": [
      "[1, 4, 9, 16, 25, 36, 49, 64, 81, 100]\n"
     ]
    }
   ],
   "source": [
    "squares = {x**2 for x in range(1, 11)}\n",
    "print(sorted(squares))"
   ]
  },
  {
   "cell_type": "markdown",
   "id": "d0a6bfae",
   "metadata": {},
   "source": [
    "### Exercise 5: Filtering Sets\n",
    "\n",
    "Create a new set containing only the even numbers from the set created in Exercise 1 using a set comprehension. Print the new set."
   ]
  },
  {
   "cell_type": "code",
   "execution_count": 33,
   "id": "809edb17",
   "metadata": {},
   "outputs": [
    {
     "name": "stdout",
     "output_type": "stream",
     "text": [
      "{2, 4, 6, 8, 10}\n"
     ]
    }
   ],
   "source": [
    "even_num = {x for x in my_set if x%2 == 0}\n",
    "print(even_num)"
   ]
  },
  {
   "cell_type": "markdown",
   "id": "1b6d2d73",
   "metadata": {},
   "source": [
    "### Exercise 6: Set Methods\n",
    "\n",
    "Create a set with duplicate elements and remove the duplicates using set methods. Print the modified set."
   ]
  },
  {
   "cell_type": "code",
   "execution_count": 37,
   "id": "b67e8cca",
   "metadata": {},
   "outputs": [
    {
     "name": "stdout",
     "output_type": "stream",
     "text": [
      "{1, 2, 3, 4, 5, 6, 8}\n"
     ]
    }
   ],
   "source": [
    "duplicate = [1,2,3,4,5,6,5,4,3,2,4,5,8]\n",
    "print(set(duplicate))"
   ]
  },
  {
   "cell_type": "markdown",
   "id": "edee4ec1",
   "metadata": {},
   "source": [
    "### Exercise 7: Subsets and Supersets\n",
    "\n",
    "Create two sets: one with the first 5 positive integers and another with the first 3 positive integers. Check if the second set is a subset of the first set and if the first set is a superset of the second set. Print the results."
   ]
  },
  {
   "cell_type": "code",
   "execution_count": 41,
   "id": "e3f0965e",
   "metadata": {},
   "outputs": [
    {
     "name": "stdout",
     "output_type": "stream",
     "text": [
      "First set is: {1, 2, 3, 4, 5} Second set is {1, 2, 3}\n",
      "find subset True\n",
      "find Superset True\n"
     ]
    }
   ],
   "source": [
    "set1 = set(range(1,6))\n",
    "set2 = set(range(1,4))\n",
    "\n",
    "print(f\"First set is: {set1} Second set is {set2}\")\n",
    "\n",
    "subset = set2.issubset(set1)\n",
    "print(f\"find subset {subset}\")\n",
    "\n",
    "superset = set1.issuperset(set2)\n",
    "print(f\"find Superset {subset}\")"
   ]
  },
  {
   "cell_type": "markdown",
   "id": "bf13cd76",
   "metadata": {},
   "source": [
    "### Exercise 8: Frozenset\n",
    "\n",
    "Create a frozenset with the first 5 positive integers. Print the frozenset."
   ]
  },
  {
   "cell_type": "code",
   "execution_count": 44,
   "id": "4825e49a",
   "metadata": {},
   "outputs": [
    {
     "name": "stdout",
     "output_type": "stream",
     "text": [
      "frozenset({1, 2, 3, 4, 5})\n"
     ]
    }
   ],
   "source": [
    "my_frozenset = frozenset(range(1,6))\n",
    "print(my_frozenset)"
   ]
  },
  {
   "cell_type": "markdown",
   "id": "22561d8f",
   "metadata": {},
   "source": [
    "### Exercise 9: Set and List Conversion\n",
    "\n",
    "Create a set with the first 5 positive integers. Convert it to a list, append the number 6, and convert it back to a set. Print the resulting set."
   ]
  },
  {
   "cell_type": "code",
   "execution_count": 46,
   "id": "c00d5d44",
   "metadata": {},
   "outputs": [
    {
     "name": "stdout",
     "output_type": "stream",
     "text": [
      "{1, 2, 3, 4, 5, 6}\n",
      "<class 'set'>\n"
     ]
    }
   ],
   "source": [
    "set1 = set(range(1,6))\n",
    "\n",
    "convert = list(set1)\n",
    "\n",
    "convert.append(6)\n",
    "\n",
    "back_to_set = set(convert)\n",
    "\n",
    "print(back_to_set)\n",
    "print(type(back_to_set))\n"
   ]
  },
  {
   "cell_type": "markdown",
   "id": "9f8b603b",
   "metadata": {},
   "source": [
    "### Exercise 10: Set and Dictionary\n",
    "\n",
    "Create a dictionary with set keys and integer values. Print the dictionary."
   ]
  },
  {
   "cell_type": "code",
   "execution_count": 50,
   "id": "af5901f4",
   "metadata": {},
   "outputs": [
    {
     "name": "stdout",
     "output_type": "stream",
     "text": [
      "{frozenset({1, 2}): 10, frozenset({3, 4, 5}): 20, frozenset({5, 6}): 30}\n"
     ]
    }
   ],
   "source": [
    "my_dict = {\n",
    "    frozenset({1, 2}): 10,\n",
    "    frozenset({3, 4, 5}): 20,\n",
    "    frozenset({5,6}): 30\n",
    "}\n",
    "\n",
    "print(my_dict)"
   ]
  },
  {
   "cell_type": "markdown",
   "id": "79450cf7",
   "metadata": {},
   "source": [
    "### Exercise 11: Iterating Over Sets\n",
    "\n",
    "Create a set and iterate over the elements, printing each element."
   ]
  },
  {
   "cell_type": "code",
   "execution_count": 52,
   "id": "abf09f8e",
   "metadata": {},
   "outputs": [
    {
     "name": "stdout",
     "output_type": "stream",
     "text": [
      "mango\n",
      "orange\n",
      "banana\n",
      "apple\n"
     ]
    }
   ],
   "source": [
    "new_set = {\"apple\", \"mango\", \"orange\", \"banana\"}\n",
    "\n",
    "for item in new_set:\n",
    "    print(item)"
   ]
  },
  {
   "cell_type": "markdown",
   "id": "ebaafdfd",
   "metadata": {},
   "source": [
    "### Exercise 12: Removing Elements from Sets\n",
    "\n",
    "Create a set and remove elements from it until it is empty. Print the set after each removal."
   ]
  },
  {
   "cell_type": "code",
   "execution_count": 55,
   "id": "41419751",
   "metadata": {},
   "outputs": [
    {
     "name": "stdout",
     "output_type": "stream",
     "text": [
      "remove element 1 and set elements {2, 3, 4, 5}\n",
      "remove element 2 and set elements {3, 4, 5}\n",
      "remove element 3 and set elements {4, 5}\n",
      "remove element 4 and set elements {5}\n",
      "remove element 5 and set elements set()\n"
     ]
    }
   ],
   "source": [
    "set12 = set(range(1,6))\n",
    "\n",
    "while set12:\n",
    "    remove_item = set12.pop()\n",
    "    print(f\"remove element {remove_item} and set elements {set12}\")"
   ]
  },
  {
   "cell_type": "markdown",
   "id": "528d7f90",
   "metadata": {},
   "source": [
    "### Exercise 13: Set Symmetric Difference Update\n",
    "\n",
    "Create two sets and update the first set with the symmetric difference of the two sets. Print the modified first set."
   ]
  },
  {
   "cell_type": "code",
   "execution_count": 58,
   "id": "043f8f2f",
   "metadata": {},
   "outputs": [
    {
     "name": "stdout",
     "output_type": "stream",
     "text": [
      "{1, 2, 3, 4, 7, 8, 9, 10, 12}\n"
     ]
    }
   ],
   "source": [
    "mySet1 = {1,2,3,4,5,6}\n",
    "mySet2 = {5,6,7,8,9,10,12}\n",
    "\n",
    "mySet1.symmetric_difference_update(mySet2)\n",
    "\n",
    "print(mySet1)"
   ]
  },
  {
   "cell_type": "markdown",
   "id": "596367fc",
   "metadata": {},
   "source": [
    "### Exercise 14: Set Membership Testing\n",
    "\n",
    "Create a set and test if certain elements are present in the set. Print the results."
   ]
  },
  {
   "cell_type": "code",
   "execution_count": 61,
   "id": "b57f5fef",
   "metadata": {},
   "outputs": [
    {
     "name": "stdout",
     "output_type": "stream",
     "text": [
      "{9, 4, 7}\n"
     ]
    }
   ],
   "source": [
    "member_set_1 = set(range(1, 11))\n",
    "member_set_2 = {4,7,9}\n",
    "\n",
    "present_element = member_set_2.intersection(member_set_1)\n",
    "print(present_element)\n"
   ]
  },
  {
   "cell_type": "markdown",
   "id": "23a7cf22",
   "metadata": {},
   "source": [
    "### Exercise 15: Set of Tuples\n",
    "\n",
    "Create a set containing tuples, where each tuple contains two elements. Print the set."
   ]
  },
  {
   "cell_type": "code",
   "execution_count": 62,
   "id": "8e8969b4",
   "metadata": {},
   "outputs": [
    {
     "name": "stdout",
     "output_type": "stream",
     "text": [
      "{(1, 2), (3, 4), (5, 6)}\n"
     ]
    }
   ],
   "source": [
    "set_of_tuples = {(1,2), (3,4), (5,6)}\n",
    "print(set_of_tuples)"
   ]
  }
 ],
 "metadata": {
  "kernelspec": {
   "display_name": "base",
   "language": "python",
   "name": "python3"
  },
  "language_info": {
   "codemirror_mode": {
    "name": "ipython",
    "version": 3
   },
   "file_extension": ".py",
   "mimetype": "text/x-python",
   "name": "python",
   "nbconvert_exporter": "python",
   "pygments_lexer": "ipython3",
   "version": "3.13.5"
  }
 },
 "nbformat": 4,
 "nbformat_minor": 5
}
