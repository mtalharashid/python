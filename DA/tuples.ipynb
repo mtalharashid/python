{
 "cells": [
  {
   "cell_type": "markdown",
   "metadata": {},
   "source": [
    "Tuples"
   ]
  },
  {
   "cell_type": "code",
   "execution_count": 2,
   "metadata": {},
   "outputs": [
    {
     "name": "stdout",
     "output_type": "stream",
     "text": [
      "()\n",
      "<class 'tuple'>\n"
     ]
    }
   ],
   "source": [
    "#create an empty tuples and print it with type\n",
    "empty=()\n",
    "print(empty)\n",
    "print(type(empty))"
   ]
  },
  {
   "cell_type": "code",
   "execution_count": 4,
   "metadata": {},
   "outputs": [
    {
     "name": "stdout",
     "output_type": "stream",
     "text": [
      "<class 'list'>\n",
      "<class 'tuple'>\n"
     ]
    }
   ],
   "source": [
    "#create list and tuples using class\n",
    "lst = list()\n",
    "print(type(lst))\n",
    "tupl = tuple()\n",
    "print(type(tupl))"
   ]
  },
  {
   "cell_type": "code",
   "execution_count": 5,
   "metadata": {},
   "outputs": [
    {
     "name": "stdout",
     "output_type": "stream",
     "text": [
      "(1, 'Hello', True, 0.1)\n"
     ]
    }
   ],
   "source": [
    "#mixed Tuple\n",
    "mx_tuple = (1, \"Hello\", True, 0.1)\n",
    "print(mx_tuple)"
   ]
  },
  {
   "cell_type": "code",
   "execution_count": 6,
   "metadata": {},
   "outputs": [
    {
     "name": "stdout",
     "output_type": "stream",
     "text": [
      "(1, 2, 3, 4, 5, 6, 1, 'Hello', True, 0.1)\n"
     ]
    }
   ],
   "source": [
    "## Tuples Operation\n",
    "\n",
    "numbers = (1,2,3,4,5,6)\n",
    "\n",
    "contactination_tuple = numbers + mx_tuple\n",
    "print(contactination_tuple)"
   ]
  },
  {
   "cell_type": "code",
   "execution_count": 3,
   "metadata": {},
   "outputs": [
    {
     "name": "stdout",
     "output_type": "stream",
     "text": [
      "{1: 1, 2: 4, 3: 3, 4: 2}\n"
     ]
    }
   ],
   "source": [
    "## Dictionary to count reapted number \n",
    "\n",
    "numbers = [1,2,3,2,3,3,2,4,2,4]\n",
    "count = {}\n",
    "for number in numbers:\n",
    "    if number in count:\n",
    "        count[number] +=1\n",
    "    else:\n",
    "        count[number]=1\n",
    "print(count)"
   ]
  }
 ],
 "metadata": {
  "kernelspec": {
   "display_name": "base",
   "language": "python",
   "name": "python3"
  },
  "language_info": {
   "codemirror_mode": {
    "name": "ipython",
    "version": 3
   },
   "file_extension": ".py",
   "mimetype": "text/x-python",
   "name": "python",
   "nbconvert_exporter": "python",
   "pygments_lexer": "ipython3",
   "version": "3.13.5"
  }
 },
 "nbformat": 4,
 "nbformat_minor": 2
}
